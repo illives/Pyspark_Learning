{
 "cells": [
  {
   "cell_type": "code",
   "execution_count": 1,
   "id": "e861f232",
   "metadata": {},
   "outputs": [],
   "source": [
    "import pyspark.sql.functions as F\n",
    "from pyspark.sql import SparkSession"
   ]
  },
  {
   "cell_type": "code",
   "execution_count": 2,
   "id": "a8982502",
   "metadata": {},
   "outputs": [],
   "source": [
    "spark = SparkSession.builder.appName('Group_by_order')\\\n",
    ".config('spark.sql.repl.eagerEval.enabled', True).getOrCreate()"
   ]
  },
  {
   "cell_type": "code",
   "execution_count": 4,
   "id": "a670a171",
   "metadata": {},
   "outputs": [],
   "source": [
    "autores = spark.read.parquet('.//data/DATASETS/DATASETS/AUTORES.parquet')\n",
    "livros = spark.read.parquet('.//data/DATASETS/DATASETS/LIVROS.parquet')\n",
    "clientes = spark.read.parquet('.//data/DATASETS/DATASETS/CLIENTES.parquet')\n",
    "compras = spark.read.parquet('.//data/DATASETS/DATASETS/COMPRAS.parquet')\n"
   ]
  },
  {
   "cell_type": "markdown",
   "id": "536f17ac",
   "metadata": {},
   "source": [
    "# INNER | RIGTH | LEFT JON"
   ]
  },
  {
   "cell_type": "code",
   "execution_count": 11,
   "id": "06e8d019",
   "metadata": {},
   "outputs": [
    {
     "data": {
      "text/html": [
       "<table border='1'>\n",
       "<tr><th>id</th><th>titulo</th><th>autor</th><th>cartao_data_expiracao</th><th>cartao_numero</th><th>cartao_bandeira</th><th>cartao_cvc</th><th>codigo_transacao_bancaria</th><th>data</th><th>hora</th><th>ipv4</th><th>ipv6</th><th>cep_entrega</th><th>cd_livro</th><th>cd_cliente</th></tr>\n",
       "<tr><td>010045097</td><td>Moby Dick </td><td>Herman Melville</td><td>null</td><td>null</td><td>null</td><td>null</td><td>null</td><td>null</td><td>null</td><td>null</td><td>null</td><td>null</td><td>null</td><td>null</td></tr>\n",
       "<tr><td>010325500</td><td>A Obscena Senhora D </td><td>Hilda Hilst</td><td>null</td><td>null</td><td>null</td><td>null</td><td>null</td><td>null</td><td>null</td><td>null</td><td>null</td><td>null</td><td>null</td><td>null</td></tr>\n",
       "<tr><td>010838220</td><td>Ficções </td><td>Jorge Luis Borges</td><td>null</td><td>null</td><td>null</td><td>null</td><td>null</td><td>null</td><td>null</td><td>null</td><td>null</td><td>null</td><td>null</td><td>null</td></tr>\n",
       "<tr><td>011247991</td><td>Lavoura Arcaica </td><td>Raduan Nassar</td><td>null</td><td>null</td><td>null</td><td>null</td><td>null</td><td>null</td><td>null</td><td>null</td><td>null</td><td>null</td><td>null</td><td>null</td></tr>\n",
       "<tr><td>011576248</td><td>O Conto da Aia </td><td>Margaret Atwood</td><td>null</td><td>null</td><td>null</td><td>null</td><td>null</td><td>null</td><td>null</td><td>null</td><td>null</td><td>null</td><td>null</td><td>null</td></tr>\n",
       "<tr><td>011653983</td><td>O Tronco </td><td>Bernardo Élis</td><td>null</td><td>null</td><td>null</td><td>null</td><td>null</td><td>null</td><td>null</td><td>null</td><td>null</td><td>null</td><td>null</td><td>null</td></tr>\n",
       "<tr><td>011997254</td><td>Canaã </td><td>Graça Aranha</td><td>null</td><td>null</td><td>null</td><td>null</td><td>null</td><td>null</td><td>null</td><td>null</td><td>null</td><td>null</td><td>null</td><td>null</td></tr>\n",
       "<tr><td>012034239</td><td>Espumas Flutuantes </td><td>Castro Alves</td><td>null</td><td>null</td><td>null</td><td>null</td><td>null</td><td>null</td><td>null</td><td>null</td><td>null</td><td>null</td><td>null</td><td>null</td></tr>\n",
       "<tr><td>012389</td><td>null</td><td>null</td><td>11/25</td><td>5500804500517692</td><td>Discover</td><td>959</td><td>GB98MPIH622108593...</td><td>2021-07-24</td><td>03:21:28</td><td>62.145.31.164</td><td>b23d:58a2:9eff:36...</td><td>36629-219</td><td>030334762</td><td>3339828</td></tr>\n",
       "<tr><td>012476</td><td>null</td><td>null</td><td>01/31</td><td>4609489235873</td><td>VISA 16 digit</td><td>6979</td><td>GB79GAVL233010819...</td><td>2021-08-23</td><td>11:15:52</td><td>185.150.224.52</td><td>1e2c:f641:49d1:5a...</td><td>17012-747</td><td>013721981</td><td>7624624</td></tr>\n",
       "<tr><td>012478</td><td>null</td><td>null</td><td>07/23</td><td>30072722359174</td><td>American Express</td><td>689</td><td>GB51SZOU538484531...</td><td>2020-01-27</td><td>17:08:10</td><td>40.179.153.24</td><td>9bcd:ee0c:af68:33...</td><td>25921298</td><td>019458805</td><td>8703114</td></tr>\n",
       "<tr><td>012534</td><td>null</td><td>null</td><td>09/29</td><td>4561935154572</td><td>VISA 16 digit</td><td>353</td><td>GB05UNEX021466511...</td><td>2021-07-15</td><td>07:39:25</td><td>86.20.51.194</td><td>be57:8f94:132:1cb...</td><td>73799370</td><td>014347542</td><td>7799936</td></tr>\n",
       "<tr><td>012549</td><td>null</td><td>null</td><td>01/31</td><td>3541220668415122</td><td>JCB 15 digit</td><td>967</td><td>GB97RCCC581942620...</td><td>2020-07-22</td><td>23:56:14</td><td>55.189.220.65</td><td>a1fd:9dd:115f:9d5...</td><td>50727-454</td><td>020215846</td><td>6703678</td></tr>\n",
       "<tr><td>012574</td><td>null</td><td>null</td><td>06/24</td><td>4155061214506542</td><td>JCB 16 digit</td><td>362</td><td>GB93YATI197164292...</td><td>2020-05-19</td><td>10:47:09</td><td>212.26.253.42</td><td>1815:dc0e:c557:96...</td><td>67662-182</td><td>010325500</td><td>6273720</td></tr>\n",
       "<tr><td>012579</td><td>null</td><td>null</td><td>01/27</td><td>30554213514227</td><td>Maestro</td><td>9847</td><td>GB54PQLN799705859...</td><td>2021-04-15</td><td>10:36:56</td><td>168.197.230.167</td><td>7f3b:4ada:4c62:3f...</td><td>61193-110</td><td>053479015</td><td>6977964</td></tr>\n",
       "<tr><td>012648</td><td>null</td><td>null</td><td>05/24</td><td>347386847428278</td><td>VISA 16 digit</td><td>823</td><td>GB90MYZL510193283...</td><td>2021-06-19</td><td>13:07:48</td><td>146.108.131.11</td><td>c52d:53d8:371a:34...</td><td>10059-723</td><td>012331534</td><td>6616715</td></tr>\n",
       "<tr><td>012675</td><td>null</td><td>null</td><td>04/29</td><td>4534805013764</td><td>Mastercard</td><td>384</td><td>GB11XMUH824876351...</td><td>2021-07-11</td><td>07:55:08</td><td>148.155.72.234</td><td>b290:d2b7:6a58:86...</td><td>79292884</td><td>035940339</td><td>649001</td></tr>\n",
       "<tr><td>012698</td><td>null</td><td>null</td><td>12/31</td><td>4450657280386776</td><td>American Express</td><td>247</td><td>GB79ECRO017868447...</td><td>2021-08-11</td><td>12:06:48</td><td>190.135.5.172</td><td>7cbc:4554:7f5d:65...</td><td>93609312</td><td>058320651</td><td>4523531</td></tr>\n",
       "<tr><td>012845</td><td>null</td><td>null</td><td>01/32</td><td>6589457551152257</td><td>Diners Club / Car...</td><td>081</td><td>GB54ZAJA800810561...</td><td>2023-02-27</td><td>09:34:58</td><td>117.107.7.243</td><td>d3f6:6a7f:32a8:eb...</td><td>65177115</td><td>032169692</td><td>8443760</td></tr>\n",
       "<tr><td>012948</td><td>null</td><td>null</td><td>12/28</td><td>373871288580551</td><td>Diners Club / Car...</td><td>619</td><td>GB43SXJF889505944...</td><td>2020-02-20</td><td>03:10:01</td><td>210.130.27.213</td><td>9ae4:b03a:1a1f:c6...</td><td>39334-766</td><td>032169692</td><td>1235431</td></tr>\n",
       "</table>\n",
       "only showing top 20 rows\n"
      ],
      "text/plain": [
       "+---------+--------------------+-----------------+---------------------+----------------+--------------------+----------+-------------------------+----------+--------+---------------+--------------------+-----------+---------+----------+\n",
       "|       id|              titulo|            autor|cartao_data_expiracao|   cartao_numero|     cartao_bandeira|cartao_cvc|codigo_transacao_bancaria|      data|    hora|           ipv4|                ipv6|cep_entrega| cd_livro|cd_cliente|\n",
       "+---------+--------------------+-----------------+---------------------+----------------+--------------------+----------+-------------------------+----------+--------+---------------+--------------------+-----------+---------+----------+\n",
       "|010045097|          Moby Dick |  Herman Melville|                 null|            null|                null|      null|                     null|      null|    null|           null|                null|       null|     null|      null|\n",
       "|010325500|A Obscena Senhora D |      Hilda Hilst|                 null|            null|                null|      null|                     null|      null|    null|           null|                null|       null|     null|      null|\n",
       "|010838220|            Ficções |Jorge Luis Borges|                 null|            null|                null|      null|                     null|      null|    null|           null|                null|       null|     null|      null|\n",
       "|011247991|    Lavoura Arcaica |    Raduan Nassar|                 null|            null|                null|      null|                     null|      null|    null|           null|                null|       null|     null|      null|\n",
       "|011576248|     O Conto da Aia |  Margaret Atwood|                 null|            null|                null|      null|                     null|      null|    null|           null|                null|       null|     null|      null|\n",
       "|011653983|           O Tronco |    Bernardo Élis|                 null|            null|                null|      null|                     null|      null|    null|           null|                null|       null|     null|      null|\n",
       "|011997254|              Canaã |     Graça Aranha|                 null|            null|                null|      null|                     null|      null|    null|           null|                null|       null|     null|      null|\n",
       "|012034239| Espumas Flutuantes |     Castro Alves|                 null|            null|                null|      null|                     null|      null|    null|           null|                null|       null|     null|      null|\n",
       "|   012389|                null|             null|                11/25|5500804500517692|            Discover|       959|     GB98MPIH622108593...|2021-07-24|03:21:28|  62.145.31.164|b23d:58a2:9eff:36...|  36629-219|030334762|   3339828|\n",
       "|   012476|                null|             null|                01/31|   4609489235873|       VISA 16 digit|      6979|     GB79GAVL233010819...|2021-08-23|11:15:52| 185.150.224.52|1e2c:f641:49d1:5a...|  17012-747|013721981|   7624624|\n",
       "|   012478|                null|             null|                07/23|  30072722359174|    American Express|       689|     GB51SZOU538484531...|2020-01-27|17:08:10|  40.179.153.24|9bcd:ee0c:af68:33...|   25921298|019458805|   8703114|\n",
       "|   012534|                null|             null|                09/29|   4561935154572|       VISA 16 digit|       353|     GB05UNEX021466511...|2021-07-15|07:39:25|   86.20.51.194|be57:8f94:132:1cb...|   73799370|014347542|   7799936|\n",
       "|   012549|                null|             null|                01/31|3541220668415122|        JCB 15 digit|       967|     GB97RCCC581942620...|2020-07-22|23:56:14|  55.189.220.65|a1fd:9dd:115f:9d5...|  50727-454|020215846|   6703678|\n",
       "|   012574|                null|             null|                06/24|4155061214506542|        JCB 16 digit|       362|     GB93YATI197164292...|2020-05-19|10:47:09|  212.26.253.42|1815:dc0e:c557:96...|  67662-182|010325500|   6273720|\n",
       "|   012579|                null|             null|                01/27|  30554213514227|             Maestro|      9847|     GB54PQLN799705859...|2021-04-15|10:36:56|168.197.230.167|7f3b:4ada:4c62:3f...|  61193-110|053479015|   6977964|\n",
       "|   012648|                null|             null|                05/24| 347386847428278|       VISA 16 digit|       823|     GB90MYZL510193283...|2021-06-19|13:07:48| 146.108.131.11|c52d:53d8:371a:34...|  10059-723|012331534|   6616715|\n",
       "|   012675|                null|             null|                04/29|   4534805013764|          Mastercard|       384|     GB11XMUH824876351...|2021-07-11|07:55:08| 148.155.72.234|b290:d2b7:6a58:86...|   79292884|035940339|    649001|\n",
       "|   012698|                null|             null|                12/31|4450657280386776|    American Express|       247|     GB79ECRO017868447...|2021-08-11|12:06:48|  190.135.5.172|7cbc:4554:7f5d:65...|   93609312|058320651|   4523531|\n",
       "|   012845|                null|             null|                01/32|6589457551152257|Diners Club / Car...|       081|     GB54ZAJA800810561...|2023-02-27|09:34:58|  117.107.7.243|d3f6:6a7f:32a8:eb...|   65177115|032169692|   8443760|\n",
       "|   012948|                null|             null|                12/28| 373871288580551|Diners Club / Car...|       619|     GB43SXJF889505944...|2020-02-20|03:10:01| 210.130.27.213|9ae4:b03a:1a1f:c6...|  39334-766|032169692|   1235431|\n",
       "+---------+--------------------+-----------------+---------------------+----------------+--------------------+----------+-------------------------+----------+--------+---------------+--------------------+-----------+---------+----------+\n",
       "only showing top 20 rows"
      ]
     },
     "execution_count": 11,
     "metadata": {},
     "output_type": "execute_result"
    }
   ],
   "source": [
    "autores.join(livros, ['id'], 'left') # .join(df, chave, metodo)\n",
    "autores.join(livros, ['id'], 'right')\n",
    "compras.join(livros, [compras.cd_livro == livros.id], 'inner') # Usar quando tiver chaves com nomes diferentes\n",
    "autores.join(compras,['id'], 'full')"
   ]
  }
 ],
 "metadata": {
  "kernelspec": {
   "display_name": "Python 3",
   "language": "python",
   "name": "python3"
  },
  "language_info": {
   "codemirror_mode": {
    "name": "ipython",
    "version": 3
   },
   "file_extension": ".py",
   "mimetype": "text/x-python",
   "name": "python",
   "nbconvert_exporter": "python",
   "pygments_lexer": "ipython3",
   "version": "3.10.2"
  }
 },
 "nbformat": 4,
 "nbformat_minor": 5
}
