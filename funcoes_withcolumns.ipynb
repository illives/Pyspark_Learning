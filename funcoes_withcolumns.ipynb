{
 "cells": [
  {
   "cell_type": "code",
   "execution_count": 2,
   "id": "1b07f3db",
   "metadata": {},
   "outputs": [],
   "source": [
    "import pyspark.sql.functions as F\n",
    "from pyspark.sql import SparkSession"
   ]
  },
  {
   "cell_type": "code",
   "execution_count": 3,
   "id": "90c621cc",
   "metadata": {},
   "outputs": [
    {
     "data": {
      "text/html": [
       "\n",
       "            <div>\n",
       "                <p><b>SparkSession - in-memory</b></p>\n",
       "                \n",
       "        <div>\n",
       "            <p><b>SparkContext</b></p>\n",
       "\n",
       "            <p><a href=\"http://illives.mshome.net:4040\">Spark UI</a></p>\n",
       "\n",
       "            <dl>\n",
       "              <dt>Version</dt>\n",
       "                <dd><code>v3.3.2</code></dd>\n",
       "              <dt>Master</dt>\n",
       "                <dd><code>local[*]</code></dd>\n",
       "              <dt>AppName</dt>\n",
       "                <dd><code>funcoes</code></dd>\n",
       "            </dl>\n",
       "        </div>\n",
       "        \n",
       "            </div>\n",
       "        "
      ],
      "text/plain": [
       "<pyspark.sql.session.SparkSession at 0x1ba8c167b80>"
      ]
     },
     "execution_count": 3,
     "metadata": {},
     "output_type": "execute_result"
    }
   ],
   "source": [
    "spark = SparkSession.builder.appName('funcoes').\\\n",
    "config('spark.sql.repl.eagerEval.enabled', True).\\\n",
    "getOrCreate()\n",
    "spark"
   ]
  },
  {
   "cell_type": "code",
   "execution_count": 4,
   "id": "138ccc19",
   "metadata": {},
   "outputs": [
    {
     "data": {
      "text/html": [
       "<table border='1'>\n",
       "<tr><th>email</th><th>senha</th><th>estado</th><th>cor_favorita</th><th>profissao</th></tr>\n",
       "<tr><td>pedro-lucas53@gma...</td><td>+7^7E%xFBc</td><td>RR</td><td>Roxo</td><td>Jogador De Golfe</td></tr>\n",
       "<tr><td>rezendeisaac@hotm...</td><td>_O_2GRnGOe</td><td>GO</td><td>Ciano</td><td>Atleta De Arremes...</td></tr>\n",
       "<tr><td>felipepires@uol.c...</td><td>*Aw5EOAvy9</td><td>MG</td><td>Azul</td><td>Papiloscopista</td></tr>\n",
       "<tr><td>stellamoraes@bol....</td><td>mw0AWYAs#s</td><td>AC</td><td>Marrom</td><td>Aeromoça</td></tr>\n",
       "<tr><td>wcarvalho@ig.com.br</td><td>pGD%!2Pq5X</td><td>AP</td><td>Laranja</td><td>Fonoaudiólogo</td></tr>\n",
       "<tr><td>da-conceicaodavi-...</td><td>uhBbFxPA&amp;9</td><td>MG</td><td>Rosa</td><td>Taxista</td></tr>\n",
       "<tr><td>efreitas@bol.com.br</td><td>s#q9VZt&amp;xl</td><td>MG</td><td>Branco</td><td>Produtor De Audio...</td></tr>\n",
       "<tr><td>wnunes@bol.com.br</td><td>_8az1W%n7g</td><td>SE</td><td>Azul</td><td>Cadeirinha</td></tr>\n",
       "<tr><td>jribeiro@bol.com.br</td><td>MEf1X7fj_0</td><td>PA</td><td>Marrom</td><td>Geólogo</td></tr>\n",
       "<tr><td>murilo05@gmail.com</td><td>Te&amp;gO7GkKs</td><td>MT</td><td>Marrom</td><td>Técnico De Som</td></tr>\n",
       "<tr><td>joaquim57@ig.com.br</td><td>&amp;2E1NY+ARc</td><td>BA</td><td>Rosa</td><td>Esteticista</td></tr>\n",
       "<tr><td>alexiada-rocha@ig...</td><td>@f@!Z!2c*2</td><td>MS</td><td>Laranja</td><td>Microfonista</td></tr>\n",
       "<tr><td>pmendes@gmail.com</td><td>M+^XDBfe(2</td><td>RR</td><td>Verde Claro</td><td>Fiscal</td></tr>\n",
       "<tr><td>renan46@bol.com.br</td><td>Rp%2pVqfe$</td><td>PA</td><td>Verde Escuro</td><td>Contabilista</td></tr>\n",
       "<tr><td>manuelada-rosa@ho...</td><td>#hEIEOztQ3</td><td>SE</td><td>Violeta</td><td>Seguidor De Compras</td></tr>\n",
       "<tr><td>usales@ig.com.br</td><td>b_8xaY$ozJ</td><td>AM</td><td>Rosa</td><td>Almirante</td></tr>\n",
       "<tr><td>pereiranicolas@ho...</td><td>YA9I85Wb+2</td><td>MA</td><td>Amarelo</td><td>Consultor De Moda</td></tr>\n",
       "<tr><td>cardosolivia@ig.c...</td><td>yXkDW7Ebh*</td><td>GO</td><td>Laranja</td><td>Barbeiro</td></tr>\n",
       "<tr><td>brenda39@ig.com.br</td><td>XS$84Hpsnw</td><td>RJ</td><td>Branco</td><td>Promotor De Vendas</td></tr>\n",
       "<tr><td>luizapeixoto@gmai...</td><td>TbKy82Kda$</td><td>DF</td><td>Ciano</td><td>Implantodontista</td></tr>\n",
       "</table>\n",
       "only showing top 20 rows\n"
      ],
      "text/plain": [
       "+--------------------+----------+------+------------+--------------------+\n",
       "|               email|     senha|estado|cor_favorita|           profissao|\n",
       "+--------------------+----------+------+------------+--------------------+\n",
       "|pedro-lucas53@gma...|+7^7E%xFBc|    RR|        Roxo|    Jogador De Golfe|\n",
       "|rezendeisaac@hotm...|_O_2GRnGOe|    GO|       Ciano|Atleta De Arremes...|\n",
       "|felipepires@uol.c...|*Aw5EOAvy9|    MG|        Azul|      Papiloscopista|\n",
       "|stellamoraes@bol....|mw0AWYAs#s|    AC|      Marrom|            Aeromoça|\n",
       "| wcarvalho@ig.com.br|pGD%!2Pq5X|    AP|     Laranja|       Fonoaudiólogo|\n",
       "|da-conceicaodavi-...|uhBbFxPA&9|    MG|        Rosa|             Taxista|\n",
       "| efreitas@bol.com.br|s#q9VZt&xl|    MG|      Branco|Produtor De Audio...|\n",
       "|   wnunes@bol.com.br|_8az1W%n7g|    SE|        Azul|          Cadeirinha|\n",
       "| jribeiro@bol.com.br|MEf1X7fj_0|    PA|      Marrom|             Geólogo|\n",
       "|  murilo05@gmail.com|Te&gO7GkKs|    MT|      Marrom|      Técnico De Som|\n",
       "| joaquim57@ig.com.br|&2E1NY+ARc|    BA|        Rosa|         Esteticista|\n",
       "|alexiada-rocha@ig...|@f@!Z!2c*2|    MS|     Laranja|        Microfonista|\n",
       "|   pmendes@gmail.com|M+^XDBfe(2|    RR| Verde Claro|              Fiscal|\n",
       "|  renan46@bol.com.br|Rp%2pVqfe$|    PA|Verde Escuro|        Contabilista|\n",
       "|manuelada-rosa@ho...|#hEIEOztQ3|    SE|     Violeta| Seguidor De Compras|\n",
       "|    usales@ig.com.br|b_8xaY$ozJ|    AM|        Rosa|           Almirante|\n",
       "|pereiranicolas@ho...|YA9I85Wb+2|    MA|     Amarelo|   Consultor De Moda|\n",
       "|cardosolivia@ig.c...|yXkDW7Ebh*|    GO|     Laranja|            Barbeiro|\n",
       "|  brenda39@ig.com.br|XS$84Hpsnw|    RJ|      Branco|  Promotor De Vendas|\n",
       "|luizapeixoto@gmai...|TbKy82Kda$|    DF|       Ciano|    Implantodontista|\n",
       "+--------------------+----------+------+------------+--------------------+\n",
       "only showing top 20 rows"
      ]
     },
     "execution_count": 4,
     "metadata": {},
     "output_type": "execute_result"
    }
   ],
   "source": [
    "df = spark.read.parquet('.//data/DATASETS/DATASETS/LOGINS.parquet').select('email', 'senha', 'estado', 'cor_favorita', 'profissao')\n",
    "df"
   ]
  },
  {
   "cell_type": "markdown",
   "id": "93005124",
   "metadata": {},
   "source": [
    "# FUNCAO SPLIT"
   ]
  },
  {
   "cell_type": "code",
   "execution_count": 5,
   "id": "a8d99cbd",
   "metadata": {},
   "outputs": [
    {
     "data": {
      "text/html": [
       "<table border='1'>\n",
       "<tr><th>email</th><th>senha</th><th>estado</th><th>cor_favorita</th><th>profissao</th><th>usuario</th><th>provedor</th><th>nome_provedor</th></tr>\n",
       "<tr><td>pedro-lucas53@gma...</td><td>+7^7E%xFBc</td><td>RR</td><td>Roxo</td><td>Jogador De Golfe</td><td>pedro-lucas53</td><td>gmail.com</td><td>gmail</td></tr>\n",
       "<tr><td>rezendeisaac@hotm...</td><td>_O_2GRnGOe</td><td>GO</td><td>Ciano</td><td>Atleta De Arremes...</td><td>rezendeisaac</td><td>hotmail.com</td><td>hotmail</td></tr>\n",
       "<tr><td>felipepires@uol.c...</td><td>*Aw5EOAvy9</td><td>MG</td><td>Azul</td><td>Papiloscopista</td><td>felipepires</td><td>uol.com.br</td><td>uol</td></tr>\n",
       "<tr><td>stellamoraes@bol....</td><td>mw0AWYAs#s</td><td>AC</td><td>Marrom</td><td>Aeromoça</td><td>stellamoraes</td><td>bol.com.br</td><td>bol</td></tr>\n",
       "<tr><td>wcarvalho@ig.com.br</td><td>pGD%!2Pq5X</td><td>AP</td><td>Laranja</td><td>Fonoaudiólogo</td><td>wcarvalho</td><td>ig.com.br</td><td>ig</td></tr>\n",
       "<tr><td>da-conceicaodavi-...</td><td>uhBbFxPA&amp;9</td><td>MG</td><td>Rosa</td><td>Taxista</td><td>da-conceicaodavi-...</td><td>hotmail.com</td><td>hotmail</td></tr>\n",
       "<tr><td>efreitas@bol.com.br</td><td>s#q9VZt&amp;xl</td><td>MG</td><td>Branco</td><td>Produtor De Audio...</td><td>efreitas</td><td>bol.com.br</td><td>bol</td></tr>\n",
       "<tr><td>wnunes@bol.com.br</td><td>_8az1W%n7g</td><td>SE</td><td>Azul</td><td>Cadeirinha</td><td>wnunes</td><td>bol.com.br</td><td>bol</td></tr>\n",
       "<tr><td>jribeiro@bol.com.br</td><td>MEf1X7fj_0</td><td>PA</td><td>Marrom</td><td>Geólogo</td><td>jribeiro</td><td>bol.com.br</td><td>bol</td></tr>\n",
       "<tr><td>murilo05@gmail.com</td><td>Te&amp;gO7GkKs</td><td>MT</td><td>Marrom</td><td>Técnico De Som</td><td>murilo05</td><td>gmail.com</td><td>gmail</td></tr>\n",
       "<tr><td>joaquim57@ig.com.br</td><td>&amp;2E1NY+ARc</td><td>BA</td><td>Rosa</td><td>Esteticista</td><td>joaquim57</td><td>ig.com.br</td><td>ig</td></tr>\n",
       "<tr><td>alexiada-rocha@ig...</td><td>@f@!Z!2c*2</td><td>MS</td><td>Laranja</td><td>Microfonista</td><td>alexiada-rocha</td><td>ig.com.br</td><td>ig</td></tr>\n",
       "<tr><td>pmendes@gmail.com</td><td>M+^XDBfe(2</td><td>RR</td><td>Verde Claro</td><td>Fiscal</td><td>pmendes</td><td>gmail.com</td><td>gmail</td></tr>\n",
       "<tr><td>renan46@bol.com.br</td><td>Rp%2pVqfe$</td><td>PA</td><td>Verde Escuro</td><td>Contabilista</td><td>renan46</td><td>bol.com.br</td><td>bol</td></tr>\n",
       "<tr><td>manuelada-rosa@ho...</td><td>#hEIEOztQ3</td><td>SE</td><td>Violeta</td><td>Seguidor De Compras</td><td>manuelada-rosa</td><td>hotmail.com</td><td>hotmail</td></tr>\n",
       "<tr><td>usales@ig.com.br</td><td>b_8xaY$ozJ</td><td>AM</td><td>Rosa</td><td>Almirante</td><td>usales</td><td>ig.com.br</td><td>ig</td></tr>\n",
       "<tr><td>pereiranicolas@ho...</td><td>YA9I85Wb+2</td><td>MA</td><td>Amarelo</td><td>Consultor De Moda</td><td>pereiranicolas</td><td>hotmail.com</td><td>hotmail</td></tr>\n",
       "<tr><td>cardosolivia@ig.c...</td><td>yXkDW7Ebh*</td><td>GO</td><td>Laranja</td><td>Barbeiro</td><td>cardosolivia</td><td>ig.com.br</td><td>ig</td></tr>\n",
       "<tr><td>brenda39@ig.com.br</td><td>XS$84Hpsnw</td><td>RJ</td><td>Branco</td><td>Promotor De Vendas</td><td>brenda39</td><td>ig.com.br</td><td>ig</td></tr>\n",
       "<tr><td>luizapeixoto@gmai...</td><td>TbKy82Kda$</td><td>DF</td><td>Ciano</td><td>Implantodontista</td><td>luizapeixoto</td><td>gmail.com</td><td>gmail</td></tr>\n",
       "</table>\n",
       "only showing top 20 rows\n"
      ],
      "text/plain": [
       "+--------------------+----------+------+------------+--------------------+--------------------+-----------+-------------+\n",
       "|               email|     senha|estado|cor_favorita|           profissao|             usuario|   provedor|nome_provedor|\n",
       "+--------------------+----------+------+------------+--------------------+--------------------+-----------+-------------+\n",
       "|pedro-lucas53@gma...|+7^7E%xFBc|    RR|        Roxo|    Jogador De Golfe|       pedro-lucas53|  gmail.com|        gmail|\n",
       "|rezendeisaac@hotm...|_O_2GRnGOe|    GO|       Ciano|Atleta De Arremes...|        rezendeisaac|hotmail.com|      hotmail|\n",
       "|felipepires@uol.c...|*Aw5EOAvy9|    MG|        Azul|      Papiloscopista|         felipepires| uol.com.br|          uol|\n",
       "|stellamoraes@bol....|mw0AWYAs#s|    AC|      Marrom|            Aeromoça|        stellamoraes| bol.com.br|          bol|\n",
       "| wcarvalho@ig.com.br|pGD%!2Pq5X|    AP|     Laranja|       Fonoaudiólogo|           wcarvalho|  ig.com.br|           ig|\n",
       "|da-conceicaodavi-...|uhBbFxPA&9|    MG|        Rosa|             Taxista|da-conceicaodavi-...|hotmail.com|      hotmail|\n",
       "| efreitas@bol.com.br|s#q9VZt&xl|    MG|      Branco|Produtor De Audio...|            efreitas| bol.com.br|          bol|\n",
       "|   wnunes@bol.com.br|_8az1W%n7g|    SE|        Azul|          Cadeirinha|              wnunes| bol.com.br|          bol|\n",
       "| jribeiro@bol.com.br|MEf1X7fj_0|    PA|      Marrom|             Geólogo|            jribeiro| bol.com.br|          bol|\n",
       "|  murilo05@gmail.com|Te&gO7GkKs|    MT|      Marrom|      Técnico De Som|            murilo05|  gmail.com|        gmail|\n",
       "| joaquim57@ig.com.br|&2E1NY+ARc|    BA|        Rosa|         Esteticista|           joaquim57|  ig.com.br|           ig|\n",
       "|alexiada-rocha@ig...|@f@!Z!2c*2|    MS|     Laranja|        Microfonista|      alexiada-rocha|  ig.com.br|           ig|\n",
       "|   pmendes@gmail.com|M+^XDBfe(2|    RR| Verde Claro|              Fiscal|             pmendes|  gmail.com|        gmail|\n",
       "|  renan46@bol.com.br|Rp%2pVqfe$|    PA|Verde Escuro|        Contabilista|             renan46| bol.com.br|          bol|\n",
       "|manuelada-rosa@ho...|#hEIEOztQ3|    SE|     Violeta| Seguidor De Compras|      manuelada-rosa|hotmail.com|      hotmail|\n",
       "|    usales@ig.com.br|b_8xaY$ozJ|    AM|        Rosa|           Almirante|              usales|  ig.com.br|           ig|\n",
       "|pereiranicolas@ho...|YA9I85Wb+2|    MA|     Amarelo|   Consultor De Moda|      pereiranicolas|hotmail.com|      hotmail|\n",
       "|cardosolivia@ig.c...|yXkDW7Ebh*|    GO|     Laranja|            Barbeiro|        cardosolivia|  ig.com.br|           ig|\n",
       "|  brenda39@ig.com.br|XS$84Hpsnw|    RJ|      Branco|  Promotor De Vendas|            brenda39|  ig.com.br|           ig|\n",
       "|luizapeixoto@gmai...|TbKy82Kda$|    DF|       Ciano|    Implantodontista|        luizapeixoto|  gmail.com|        gmail|\n",
       "+--------------------+----------+------+------------+--------------------+--------------------+-----------+-------------+\n",
       "only showing top 20 rows"
      ]
     },
     "execution_count": 5,
     "metadata": {},
     "output_type": "execute_result"
    }
   ],
   "source": [
    "(\n",
    "    df.withColumn('usuario', F.split(df.email, '@').getItem(0))\n",
    "    .withColumn('provedor', F.split(df.email, '@').getItem(1))\n",
    "    .withColumn('nome_provedor', F.split(F.col('provedor'), '\\.').getItem(0))\n",
    ")"
   ]
  },
  {
   "cell_type": "markdown",
   "id": "4c84cae6",
   "metadata": {},
   "source": [
    "# FUNCAO CONCAT"
   ]
  },
  {
   "cell_type": "code",
   "execution_count": 6,
   "id": "d976b1a8",
   "metadata": {},
   "outputs": [
    {
     "data": {
      "text/html": [
       "<table border='1'>\n",
       "<tr><th>email</th><th>senha</th><th>estado</th><th>cor_favorita</th><th>profissao</th><th>cor_email</th></tr>\n",
       "<tr><td>pedro-lucas53@gma...</td><td>+7^7E%xFBc</td><td>RR</td><td>Roxo</td><td>Jogador De Golfe</td><td>Roxo_pedro-lucas5...</td></tr>\n",
       "<tr><td>rezendeisaac@hotm...</td><td>_O_2GRnGOe</td><td>GO</td><td>Ciano</td><td>Atleta De Arremes...</td><td>Ciano_rezendeisaa...</td></tr>\n",
       "<tr><td>felipepires@uol.c...</td><td>*Aw5EOAvy9</td><td>MG</td><td>Azul</td><td>Papiloscopista</td><td>Azul_felipepires@...</td></tr>\n",
       "<tr><td>stellamoraes@bol....</td><td>mw0AWYAs#s</td><td>AC</td><td>Marrom</td><td>Aeromoça</td><td>Marrom_stellamora...</td></tr>\n",
       "<tr><td>wcarvalho@ig.com.br</td><td>pGD%!2Pq5X</td><td>AP</td><td>Laranja</td><td>Fonoaudiólogo</td><td>Laranja_wcarvalho...</td></tr>\n",
       "<tr><td>da-conceicaodavi-...</td><td>uhBbFxPA&amp;9</td><td>MG</td><td>Rosa</td><td>Taxista</td><td>Rosa_da-conceicao...</td></tr>\n",
       "<tr><td>efreitas@bol.com.br</td><td>s#q9VZt&amp;xl</td><td>MG</td><td>Branco</td><td>Produtor De Audio...</td><td>Branco_efreitas@b...</td></tr>\n",
       "<tr><td>wnunes@bol.com.br</td><td>_8az1W%n7g</td><td>SE</td><td>Azul</td><td>Cadeirinha</td><td>Azul_wnunes@bol.c...</td></tr>\n",
       "<tr><td>jribeiro@bol.com.br</td><td>MEf1X7fj_0</td><td>PA</td><td>Marrom</td><td>Geólogo</td><td>Marrom_jribeiro@b...</td></tr>\n",
       "<tr><td>murilo05@gmail.com</td><td>Te&amp;gO7GkKs</td><td>MT</td><td>Marrom</td><td>Técnico De Som</td><td>Marrom_murilo05@g...</td></tr>\n",
       "<tr><td>joaquim57@ig.com.br</td><td>&amp;2E1NY+ARc</td><td>BA</td><td>Rosa</td><td>Esteticista</td><td>Rosa_joaquim57@ig...</td></tr>\n",
       "<tr><td>alexiada-rocha@ig...</td><td>@f@!Z!2c*2</td><td>MS</td><td>Laranja</td><td>Microfonista</td><td>Laranja_alexiada-...</td></tr>\n",
       "<tr><td>pmendes@gmail.com</td><td>M+^XDBfe(2</td><td>RR</td><td>Verde Claro</td><td>Fiscal</td><td>Verde Claro_pmend...</td></tr>\n",
       "<tr><td>renan46@bol.com.br</td><td>Rp%2pVqfe$</td><td>PA</td><td>Verde Escuro</td><td>Contabilista</td><td>Verde Escuro_rena...</td></tr>\n",
       "<tr><td>manuelada-rosa@ho...</td><td>#hEIEOztQ3</td><td>SE</td><td>Violeta</td><td>Seguidor De Compras</td><td>Violeta_manuelada...</td></tr>\n",
       "<tr><td>usales@ig.com.br</td><td>b_8xaY$ozJ</td><td>AM</td><td>Rosa</td><td>Almirante</td><td>Rosa_usales@ig.co...</td></tr>\n",
       "<tr><td>pereiranicolas@ho...</td><td>YA9I85Wb+2</td><td>MA</td><td>Amarelo</td><td>Consultor De Moda</td><td>Amarelo_pereirani...</td></tr>\n",
       "<tr><td>cardosolivia@ig.c...</td><td>yXkDW7Ebh*</td><td>GO</td><td>Laranja</td><td>Barbeiro</td><td>Laranja_cardosoli...</td></tr>\n",
       "<tr><td>brenda39@ig.com.br</td><td>XS$84Hpsnw</td><td>RJ</td><td>Branco</td><td>Promotor De Vendas</td><td>Branco_brenda39@i...</td></tr>\n",
       "<tr><td>luizapeixoto@gmai...</td><td>TbKy82Kda$</td><td>DF</td><td>Ciano</td><td>Implantodontista</td><td>Ciano_luizapeixot...</td></tr>\n",
       "</table>\n",
       "only showing top 20 rows\n"
      ],
      "text/plain": [
       "+--------------------+----------+------+------------+--------------------+--------------------+\n",
       "|               email|     senha|estado|cor_favorita|           profissao|           cor_email|\n",
       "+--------------------+----------+------+------------+--------------------+--------------------+\n",
       "|pedro-lucas53@gma...|+7^7E%xFBc|    RR|        Roxo|    Jogador De Golfe|Roxo_pedro-lucas5...|\n",
       "|rezendeisaac@hotm...|_O_2GRnGOe|    GO|       Ciano|Atleta De Arremes...|Ciano_rezendeisaa...|\n",
       "|felipepires@uol.c...|*Aw5EOAvy9|    MG|        Azul|      Papiloscopista|Azul_felipepires@...|\n",
       "|stellamoraes@bol....|mw0AWYAs#s|    AC|      Marrom|            Aeromoça|Marrom_stellamora...|\n",
       "| wcarvalho@ig.com.br|pGD%!2Pq5X|    AP|     Laranja|       Fonoaudiólogo|Laranja_wcarvalho...|\n",
       "|da-conceicaodavi-...|uhBbFxPA&9|    MG|        Rosa|             Taxista|Rosa_da-conceicao...|\n",
       "| efreitas@bol.com.br|s#q9VZt&xl|    MG|      Branco|Produtor De Audio...|Branco_efreitas@b...|\n",
       "|   wnunes@bol.com.br|_8az1W%n7g|    SE|        Azul|          Cadeirinha|Azul_wnunes@bol.c...|\n",
       "| jribeiro@bol.com.br|MEf1X7fj_0|    PA|      Marrom|             Geólogo|Marrom_jribeiro@b...|\n",
       "|  murilo05@gmail.com|Te&gO7GkKs|    MT|      Marrom|      Técnico De Som|Marrom_murilo05@g...|\n",
       "| joaquim57@ig.com.br|&2E1NY+ARc|    BA|        Rosa|         Esteticista|Rosa_joaquim57@ig...|\n",
       "|alexiada-rocha@ig...|@f@!Z!2c*2|    MS|     Laranja|        Microfonista|Laranja_alexiada-...|\n",
       "|   pmendes@gmail.com|M+^XDBfe(2|    RR| Verde Claro|              Fiscal|Verde Claro_pmend...|\n",
       "|  renan46@bol.com.br|Rp%2pVqfe$|    PA|Verde Escuro|        Contabilista|Verde Escuro_rena...|\n",
       "|manuelada-rosa@ho...|#hEIEOztQ3|    SE|     Violeta| Seguidor De Compras|Violeta_manuelada...|\n",
       "|    usales@ig.com.br|b_8xaY$ozJ|    AM|        Rosa|           Almirante|Rosa_usales@ig.co...|\n",
       "|pereiranicolas@ho...|YA9I85Wb+2|    MA|     Amarelo|   Consultor De Moda|Amarelo_pereirani...|\n",
       "|cardosolivia@ig.c...|yXkDW7Ebh*|    GO|     Laranja|            Barbeiro|Laranja_cardosoli...|\n",
       "|  brenda39@ig.com.br|XS$84Hpsnw|    RJ|      Branco|  Promotor De Vendas|Branco_brenda39@i...|\n",
       "|luizapeixoto@gmai...|TbKy82Kda$|    DF|       Ciano|    Implantodontista|Ciano_luizapeixot...|\n",
       "+--------------------+----------+------+------------+--------------------+--------------------+\n",
       "only showing top 20 rows"
      ]
     },
     "execution_count": 6,
     "metadata": {},
     "output_type": "execute_result"
    }
   ],
   "source": [
    "(\n",
    "    df.withColumn('cor_email', F.concat(df.cor_favorita, F.lit('_'), df.email))\n",
    ")"
   ]
  },
  {
   "cell_type": "markdown",
   "id": "e8af61fe",
   "metadata": {},
   "source": [
    "# MAISUCULAS, MINUSCULAS E CAPITALIZE"
   ]
  },
  {
   "cell_type": "code",
   "execution_count": 7,
   "id": "4c49008e",
   "metadata": {},
   "outputs": [
    {
     "data": {
      "text/html": [
       "<table border='1'>\n",
       "<tr><th>email</th><th>senha</th><th>estado</th><th>cor_favorita</th><th>profissao</th><th>Maiscula</th><th>Minuscula</th><th>Capitalize</th></tr>\n",
       "<tr><td>pedro-lucas53@gma...</td><td>+7^7E%xFBc</td><td>RR</td><td>Roxo</td><td>Jogador De Golfe</td><td>ROXO</td><td>+7^7e%xfbc</td><td>Pedro-lucas53@gma...</td></tr>\n",
       "<tr><td>rezendeisaac@hotm...</td><td>_O_2GRnGOe</td><td>GO</td><td>Ciano</td><td>Atleta De Arremes...</td><td>CIANO</td><td>_o_2grngoe</td><td>Rezendeisaac@hotm...</td></tr>\n",
       "<tr><td>felipepires@uol.c...</td><td>*Aw5EOAvy9</td><td>MG</td><td>Azul</td><td>Papiloscopista</td><td>AZUL</td><td>*aw5eoavy9</td><td>Felipepires@uol.c...</td></tr>\n",
       "<tr><td>stellamoraes@bol....</td><td>mw0AWYAs#s</td><td>AC</td><td>Marrom</td><td>Aeromoça</td><td>MARROM</td><td>mw0awyas#s</td><td>Stellamoraes@bol....</td></tr>\n",
       "<tr><td>wcarvalho@ig.com.br</td><td>pGD%!2Pq5X</td><td>AP</td><td>Laranja</td><td>Fonoaudiólogo</td><td>LARANJA</td><td>pgd%!2pq5x</td><td>Wcarvalho@ig.com.br</td></tr>\n",
       "<tr><td>da-conceicaodavi-...</td><td>uhBbFxPA&amp;9</td><td>MG</td><td>Rosa</td><td>Taxista</td><td>ROSA</td><td>uhbbfxpa&amp;9</td><td>Da-conceicaodavi-...</td></tr>\n",
       "<tr><td>efreitas@bol.com.br</td><td>s#q9VZt&amp;xl</td><td>MG</td><td>Branco</td><td>Produtor De Audio...</td><td>BRANCO</td><td>s#q9vzt&amp;xl</td><td>Efreitas@bol.com.br</td></tr>\n",
       "<tr><td>wnunes@bol.com.br</td><td>_8az1W%n7g</td><td>SE</td><td>Azul</td><td>Cadeirinha</td><td>AZUL</td><td>_8az1w%n7g</td><td>Wnunes@bol.com.br</td></tr>\n",
       "<tr><td>jribeiro@bol.com.br</td><td>MEf1X7fj_0</td><td>PA</td><td>Marrom</td><td>Geólogo</td><td>MARROM</td><td>mef1x7fj_0</td><td>Jribeiro@bol.com.br</td></tr>\n",
       "<tr><td>murilo05@gmail.com</td><td>Te&amp;gO7GkKs</td><td>MT</td><td>Marrom</td><td>Técnico De Som</td><td>MARROM</td><td>te&amp;go7gkks</td><td>Murilo05@gmail.com</td></tr>\n",
       "<tr><td>joaquim57@ig.com.br</td><td>&amp;2E1NY+ARc</td><td>BA</td><td>Rosa</td><td>Esteticista</td><td>ROSA</td><td>&amp;2e1ny+arc</td><td>Joaquim57@ig.com.br</td></tr>\n",
       "<tr><td>alexiada-rocha@ig...</td><td>@f@!Z!2c*2</td><td>MS</td><td>Laranja</td><td>Microfonista</td><td>LARANJA</td><td>@f@!z!2c*2</td><td>Alexiada-rocha@ig...</td></tr>\n",
       "<tr><td>pmendes@gmail.com</td><td>M+^XDBfe(2</td><td>RR</td><td>Verde Claro</td><td>Fiscal</td><td>VERDE CLARO</td><td>m+^xdbfe(2</td><td>Pmendes@gmail.com</td></tr>\n",
       "<tr><td>renan46@bol.com.br</td><td>Rp%2pVqfe$</td><td>PA</td><td>Verde Escuro</td><td>Contabilista</td><td>VERDE ESCURO</td><td>rp%2pvqfe$</td><td>Renan46@bol.com.br</td></tr>\n",
       "<tr><td>manuelada-rosa@ho...</td><td>#hEIEOztQ3</td><td>SE</td><td>Violeta</td><td>Seguidor De Compras</td><td>VIOLETA</td><td>#heieoztq3</td><td>Manuelada-rosa@ho...</td></tr>\n",
       "<tr><td>usales@ig.com.br</td><td>b_8xaY$ozJ</td><td>AM</td><td>Rosa</td><td>Almirante</td><td>ROSA</td><td>b_8xay$ozj</td><td>Usales@ig.com.br</td></tr>\n",
       "<tr><td>pereiranicolas@ho...</td><td>YA9I85Wb+2</td><td>MA</td><td>Amarelo</td><td>Consultor De Moda</td><td>AMARELO</td><td>ya9i85wb+2</td><td>Pereiranicolas@ho...</td></tr>\n",
       "<tr><td>cardosolivia@ig.c...</td><td>yXkDW7Ebh*</td><td>GO</td><td>Laranja</td><td>Barbeiro</td><td>LARANJA</td><td>yxkdw7ebh*</td><td>Cardosolivia@ig.c...</td></tr>\n",
       "<tr><td>brenda39@ig.com.br</td><td>XS$84Hpsnw</td><td>RJ</td><td>Branco</td><td>Promotor De Vendas</td><td>BRANCO</td><td>xs$84hpsnw</td><td>Brenda39@ig.com.br</td></tr>\n",
       "<tr><td>luizapeixoto@gmai...</td><td>TbKy82Kda$</td><td>DF</td><td>Ciano</td><td>Implantodontista</td><td>CIANO</td><td>tbky82kda$</td><td>Luizapeixoto@gmai...</td></tr>\n",
       "</table>\n",
       "only showing top 20 rows\n"
      ],
      "text/plain": [
       "+--------------------+----------+------+------------+--------------------+------------+----------+--------------------+\n",
       "|               email|     senha|estado|cor_favorita|           profissao|    Maiscula| Minuscula|          Capitalize|\n",
       "+--------------------+----------+------+------------+--------------------+------------+----------+--------------------+\n",
       "|pedro-lucas53@gma...|+7^7E%xFBc|    RR|        Roxo|    Jogador De Golfe|        ROXO|+7^7e%xfbc|Pedro-lucas53@gma...|\n",
       "|rezendeisaac@hotm...|_O_2GRnGOe|    GO|       Ciano|Atleta De Arremes...|       CIANO|_o_2grngoe|Rezendeisaac@hotm...|\n",
       "|felipepires@uol.c...|*Aw5EOAvy9|    MG|        Azul|      Papiloscopista|        AZUL|*aw5eoavy9|Felipepires@uol.c...|\n",
       "|stellamoraes@bol....|mw0AWYAs#s|    AC|      Marrom|            Aeromoça|      MARROM|mw0awyas#s|Stellamoraes@bol....|\n",
       "| wcarvalho@ig.com.br|pGD%!2Pq5X|    AP|     Laranja|       Fonoaudiólogo|     LARANJA|pgd%!2pq5x| Wcarvalho@ig.com.br|\n",
       "|da-conceicaodavi-...|uhBbFxPA&9|    MG|        Rosa|             Taxista|        ROSA|uhbbfxpa&9|Da-conceicaodavi-...|\n",
       "| efreitas@bol.com.br|s#q9VZt&xl|    MG|      Branco|Produtor De Audio...|      BRANCO|s#q9vzt&xl| Efreitas@bol.com.br|\n",
       "|   wnunes@bol.com.br|_8az1W%n7g|    SE|        Azul|          Cadeirinha|        AZUL|_8az1w%n7g|   Wnunes@bol.com.br|\n",
       "| jribeiro@bol.com.br|MEf1X7fj_0|    PA|      Marrom|             Geólogo|      MARROM|mef1x7fj_0| Jribeiro@bol.com.br|\n",
       "|  murilo05@gmail.com|Te&gO7GkKs|    MT|      Marrom|      Técnico De Som|      MARROM|te&go7gkks|  Murilo05@gmail.com|\n",
       "| joaquim57@ig.com.br|&2E1NY+ARc|    BA|        Rosa|         Esteticista|        ROSA|&2e1ny+arc| Joaquim57@ig.com.br|\n",
       "|alexiada-rocha@ig...|@f@!Z!2c*2|    MS|     Laranja|        Microfonista|     LARANJA|@f@!z!2c*2|Alexiada-rocha@ig...|\n",
       "|   pmendes@gmail.com|M+^XDBfe(2|    RR| Verde Claro|              Fiscal| VERDE CLARO|m+^xdbfe(2|   Pmendes@gmail.com|\n",
       "|  renan46@bol.com.br|Rp%2pVqfe$|    PA|Verde Escuro|        Contabilista|VERDE ESCURO|rp%2pvqfe$|  Renan46@bol.com.br|\n",
       "|manuelada-rosa@ho...|#hEIEOztQ3|    SE|     Violeta| Seguidor De Compras|     VIOLETA|#heieoztq3|Manuelada-rosa@ho...|\n",
       "|    usales@ig.com.br|b_8xaY$ozJ|    AM|        Rosa|           Almirante|        ROSA|b_8xay$ozj|    Usales@ig.com.br|\n",
       "|pereiranicolas@ho...|YA9I85Wb+2|    MA|     Amarelo|   Consultor De Moda|     AMARELO|ya9i85wb+2|Pereiranicolas@ho...|\n",
       "|cardosolivia@ig.c...|yXkDW7Ebh*|    GO|     Laranja|            Barbeiro|     LARANJA|yxkdw7ebh*|Cardosolivia@ig.c...|\n",
       "|  brenda39@ig.com.br|XS$84Hpsnw|    RJ|      Branco|  Promotor De Vendas|      BRANCO|xs$84hpsnw|  Brenda39@ig.com.br|\n",
       "|luizapeixoto@gmai...|TbKy82Kda$|    DF|       Ciano|    Implantodontista|       CIANO|tbky82kda$|Luizapeixoto@gmai...|\n",
       "+--------------------+----------+------+------------+--------------------+------------+----------+--------------------+\n",
       "only showing top 20 rows"
      ]
     },
     "execution_count": 7,
     "metadata": {},
     "output_type": "execute_result"
    }
   ],
   "source": [
    "(\n",
    "    df\n",
    "    .withColumn('Maiscula', F.upper(df.cor_favorita))\n",
    "    .withColumn('Minuscula', F.lower(df.senha))\n",
    "    .withColumn('Capitalize', F.initcap(df.email))\n",
    "    \n",
    ")"
   ]
  },
  {
   "cell_type": "markdown",
   "id": "3f506d9d",
   "metadata": {},
   "source": [
    "# EXTRAIR PARTE DE STRING"
   ]
  },
  {
   "cell_type": "code",
   "execution_count": 8,
   "id": "e594c36d",
   "metadata": {},
   "outputs": [
    {
     "data": {
      "text/html": [
       "<table border='1'>\n",
       "<tr><th>email</th><th>senha</th><th>estado</th><th>cor_favorita</th><th>profissao</th><th>parte_nome</th></tr>\n",
       "<tr><td>pedro-lucas53@gma...</td><td>+7^7E%xFBc</td><td>RR</td><td>Roxo</td><td>Jogador De Golfe</td><td>Rox</td></tr>\n",
       "<tr><td>rezendeisaac@hotm...</td><td>_O_2GRnGOe</td><td>GO</td><td>Ciano</td><td>Atleta De Arremes...</td><td>Cia</td></tr>\n",
       "<tr><td>felipepires@uol.c...</td><td>*Aw5EOAvy9</td><td>MG</td><td>Azul</td><td>Papiloscopista</td><td>Azu</td></tr>\n",
       "<tr><td>stellamoraes@bol....</td><td>mw0AWYAs#s</td><td>AC</td><td>Marrom</td><td>Aeromoça</td><td>Mar</td></tr>\n",
       "<tr><td>wcarvalho@ig.com.br</td><td>pGD%!2Pq5X</td><td>AP</td><td>Laranja</td><td>Fonoaudiólogo</td><td>Lar</td></tr>\n",
       "<tr><td>da-conceicaodavi-...</td><td>uhBbFxPA&amp;9</td><td>MG</td><td>Rosa</td><td>Taxista</td><td>Ros</td></tr>\n",
       "<tr><td>efreitas@bol.com.br</td><td>s#q9VZt&amp;xl</td><td>MG</td><td>Branco</td><td>Produtor De Audio...</td><td>Bra</td></tr>\n",
       "<tr><td>wnunes@bol.com.br</td><td>_8az1W%n7g</td><td>SE</td><td>Azul</td><td>Cadeirinha</td><td>Azu</td></tr>\n",
       "<tr><td>jribeiro@bol.com.br</td><td>MEf1X7fj_0</td><td>PA</td><td>Marrom</td><td>Geólogo</td><td>Mar</td></tr>\n",
       "<tr><td>murilo05@gmail.com</td><td>Te&amp;gO7GkKs</td><td>MT</td><td>Marrom</td><td>Técnico De Som</td><td>Mar</td></tr>\n",
       "<tr><td>joaquim57@ig.com.br</td><td>&amp;2E1NY+ARc</td><td>BA</td><td>Rosa</td><td>Esteticista</td><td>Ros</td></tr>\n",
       "<tr><td>alexiada-rocha@ig...</td><td>@f@!Z!2c*2</td><td>MS</td><td>Laranja</td><td>Microfonista</td><td>Lar</td></tr>\n",
       "<tr><td>pmendes@gmail.com</td><td>M+^XDBfe(2</td><td>RR</td><td>Verde Claro</td><td>Fiscal</td><td>Ver</td></tr>\n",
       "<tr><td>renan46@bol.com.br</td><td>Rp%2pVqfe$</td><td>PA</td><td>Verde Escuro</td><td>Contabilista</td><td>Ver</td></tr>\n",
       "<tr><td>manuelada-rosa@ho...</td><td>#hEIEOztQ3</td><td>SE</td><td>Violeta</td><td>Seguidor De Compras</td><td>Vio</td></tr>\n",
       "<tr><td>usales@ig.com.br</td><td>b_8xaY$ozJ</td><td>AM</td><td>Rosa</td><td>Almirante</td><td>Ros</td></tr>\n",
       "<tr><td>pereiranicolas@ho...</td><td>YA9I85Wb+2</td><td>MA</td><td>Amarelo</td><td>Consultor De Moda</td><td>Ama</td></tr>\n",
       "<tr><td>cardosolivia@ig.c...</td><td>yXkDW7Ebh*</td><td>GO</td><td>Laranja</td><td>Barbeiro</td><td>Lar</td></tr>\n",
       "<tr><td>brenda39@ig.com.br</td><td>XS$84Hpsnw</td><td>RJ</td><td>Branco</td><td>Promotor De Vendas</td><td>Bra</td></tr>\n",
       "<tr><td>luizapeixoto@gmai...</td><td>TbKy82Kda$</td><td>DF</td><td>Ciano</td><td>Implantodontista</td><td>Cia</td></tr>\n",
       "</table>\n",
       "only showing top 20 rows\n"
      ],
      "text/plain": [
       "+--------------------+----------+------+------------+--------------------+----------+\n",
       "|               email|     senha|estado|cor_favorita|           profissao|parte_nome|\n",
       "+--------------------+----------+------+------------+--------------------+----------+\n",
       "|pedro-lucas53@gma...|+7^7E%xFBc|    RR|        Roxo|    Jogador De Golfe|       Rox|\n",
       "|rezendeisaac@hotm...|_O_2GRnGOe|    GO|       Ciano|Atleta De Arremes...|       Cia|\n",
       "|felipepires@uol.c...|*Aw5EOAvy9|    MG|        Azul|      Papiloscopista|       Azu|\n",
       "|stellamoraes@bol....|mw0AWYAs#s|    AC|      Marrom|            Aeromoça|       Mar|\n",
       "| wcarvalho@ig.com.br|pGD%!2Pq5X|    AP|     Laranja|       Fonoaudiólogo|       Lar|\n",
       "|da-conceicaodavi-...|uhBbFxPA&9|    MG|        Rosa|             Taxista|       Ros|\n",
       "| efreitas@bol.com.br|s#q9VZt&xl|    MG|      Branco|Produtor De Audio...|       Bra|\n",
       "|   wnunes@bol.com.br|_8az1W%n7g|    SE|        Azul|          Cadeirinha|       Azu|\n",
       "| jribeiro@bol.com.br|MEf1X7fj_0|    PA|      Marrom|             Geólogo|       Mar|\n",
       "|  murilo05@gmail.com|Te&gO7GkKs|    MT|      Marrom|      Técnico De Som|       Mar|\n",
       "| joaquim57@ig.com.br|&2E1NY+ARc|    BA|        Rosa|         Esteticista|       Ros|\n",
       "|alexiada-rocha@ig...|@f@!Z!2c*2|    MS|     Laranja|        Microfonista|       Lar|\n",
       "|   pmendes@gmail.com|M+^XDBfe(2|    RR| Verde Claro|              Fiscal|       Ver|\n",
       "|  renan46@bol.com.br|Rp%2pVqfe$|    PA|Verde Escuro|        Contabilista|       Ver|\n",
       "|manuelada-rosa@ho...|#hEIEOztQ3|    SE|     Violeta| Seguidor De Compras|       Vio|\n",
       "|    usales@ig.com.br|b_8xaY$ozJ|    AM|        Rosa|           Almirante|       Ros|\n",
       "|pereiranicolas@ho...|YA9I85Wb+2|    MA|     Amarelo|   Consultor De Moda|       Ama|\n",
       "|cardosolivia@ig.c...|yXkDW7Ebh*|    GO|     Laranja|            Barbeiro|       Lar|\n",
       "|  brenda39@ig.com.br|XS$84Hpsnw|    RJ|      Branco|  Promotor De Vendas|       Bra|\n",
       "|luizapeixoto@gmai...|TbKy82Kda$|    DF|       Ciano|    Implantodontista|       Cia|\n",
       "+--------------------+----------+------+------------+--------------------+----------+\n",
       "only showing top 20 rows"
      ]
     },
     "execution_count": 8,
     "metadata": {},
     "output_type": "execute_result"
    }
   ],
   "source": [
    "(\n",
    "    df\n",
    "    .withColumn('parte_nome', F.substring(df.cor_favorita, 1, 3))\n",
    ")"
   ]
  },
  {
   "cell_type": "markdown",
   "id": "cea1d197",
   "metadata": {},
   "source": [
    "# CRIAR STRING COM MENSAGEM ESPECIFICA"
   ]
  },
  {
   "cell_type": "code",
   "execution_count": 9,
   "id": "a9b26087",
   "metadata": {},
   "outputs": [
    {
     "data": {
      "text/html": [
       "<table border='1'>\n",
       "<tr><th>email</th><th>senha</th><th>estado</th><th>cor_favorita</th><th>profissao</th><th>frase</th></tr>\n",
       "<tr><td>pedro-lucas53@gma...</td><td>+7^7E%xFBc</td><td>RR</td><td>Roxo</td><td>Jogador De Golfe</td><td>Seu email é: pedr...</td></tr>\n",
       "<tr><td>rezendeisaac@hotm...</td><td>_O_2GRnGOe</td><td>GO</td><td>Ciano</td><td>Atleta De Arremes...</td><td>Seu email é: reze...</td></tr>\n",
       "<tr><td>felipepires@uol.c...</td><td>*Aw5EOAvy9</td><td>MG</td><td>Azul</td><td>Papiloscopista</td><td>Seu email é: feli...</td></tr>\n",
       "<tr><td>stellamoraes@bol....</td><td>mw0AWYAs#s</td><td>AC</td><td>Marrom</td><td>Aeromoça</td><td>Seu email é: stel...</td></tr>\n",
       "<tr><td>wcarvalho@ig.com.br</td><td>pGD%!2Pq5X</td><td>AP</td><td>Laranja</td><td>Fonoaudiólogo</td><td>Seu email é: wcar...</td></tr>\n",
       "<tr><td>da-conceicaodavi-...</td><td>uhBbFxPA&amp;9</td><td>MG</td><td>Rosa</td><td>Taxista</td><td>Seu email é: da-c...</td></tr>\n",
       "<tr><td>efreitas@bol.com.br</td><td>s#q9VZt&amp;xl</td><td>MG</td><td>Branco</td><td>Produtor De Audio...</td><td>Seu email é: efre...</td></tr>\n",
       "<tr><td>wnunes@bol.com.br</td><td>_8az1W%n7g</td><td>SE</td><td>Azul</td><td>Cadeirinha</td><td>Seu email é: wnun...</td></tr>\n",
       "<tr><td>jribeiro@bol.com.br</td><td>MEf1X7fj_0</td><td>PA</td><td>Marrom</td><td>Geólogo</td><td>Seu email é: jrib...</td></tr>\n",
       "<tr><td>murilo05@gmail.com</td><td>Te&amp;gO7GkKs</td><td>MT</td><td>Marrom</td><td>Técnico De Som</td><td>Seu email é: muri...</td></tr>\n",
       "<tr><td>joaquim57@ig.com.br</td><td>&amp;2E1NY+ARc</td><td>BA</td><td>Rosa</td><td>Esteticista</td><td>Seu email é: joaq...</td></tr>\n",
       "<tr><td>alexiada-rocha@ig...</td><td>@f@!Z!2c*2</td><td>MS</td><td>Laranja</td><td>Microfonista</td><td>Seu email é: alex...</td></tr>\n",
       "<tr><td>pmendes@gmail.com</td><td>M+^XDBfe(2</td><td>RR</td><td>Verde Claro</td><td>Fiscal</td><td>Seu email é: pmen...</td></tr>\n",
       "<tr><td>renan46@bol.com.br</td><td>Rp%2pVqfe$</td><td>PA</td><td>Verde Escuro</td><td>Contabilista</td><td>Seu email é: rena...</td></tr>\n",
       "<tr><td>manuelada-rosa@ho...</td><td>#hEIEOztQ3</td><td>SE</td><td>Violeta</td><td>Seguidor De Compras</td><td>Seu email é: manu...</td></tr>\n",
       "<tr><td>usales@ig.com.br</td><td>b_8xaY$ozJ</td><td>AM</td><td>Rosa</td><td>Almirante</td><td>Seu email é: usal...</td></tr>\n",
       "<tr><td>pereiranicolas@ho...</td><td>YA9I85Wb+2</td><td>MA</td><td>Amarelo</td><td>Consultor De Moda</td><td>Seu email é: pere...</td></tr>\n",
       "<tr><td>cardosolivia@ig.c...</td><td>yXkDW7Ebh*</td><td>GO</td><td>Laranja</td><td>Barbeiro</td><td>Seu email é: card...</td></tr>\n",
       "<tr><td>brenda39@ig.com.br</td><td>XS$84Hpsnw</td><td>RJ</td><td>Branco</td><td>Promotor De Vendas</td><td>Seu email é: bren...</td></tr>\n",
       "<tr><td>luizapeixoto@gmai...</td><td>TbKy82Kda$</td><td>DF</td><td>Ciano</td><td>Implantodontista</td><td>Seu email é: luiz...</td></tr>\n",
       "</table>\n",
       "only showing top 20 rows\n"
      ],
      "text/plain": [
       "+--------------------+----------+------+------------+--------------------+--------------------+\n",
       "|               email|     senha|estado|cor_favorita|           profissao|               frase|\n",
       "+--------------------+----------+------+------------+--------------------+--------------------+\n",
       "|pedro-lucas53@gma...|+7^7E%xFBc|    RR|        Roxo|    Jogador De Golfe|Seu email é: pedr...|\n",
       "|rezendeisaac@hotm...|_O_2GRnGOe|    GO|       Ciano|Atleta De Arremes...|Seu email é: reze...|\n",
       "|felipepires@uol.c...|*Aw5EOAvy9|    MG|        Azul|      Papiloscopista|Seu email é: feli...|\n",
       "|stellamoraes@bol....|mw0AWYAs#s|    AC|      Marrom|            Aeromoça|Seu email é: stel...|\n",
       "| wcarvalho@ig.com.br|pGD%!2Pq5X|    AP|     Laranja|       Fonoaudiólogo|Seu email é: wcar...|\n",
       "|da-conceicaodavi-...|uhBbFxPA&9|    MG|        Rosa|             Taxista|Seu email é: da-c...|\n",
       "| efreitas@bol.com.br|s#q9VZt&xl|    MG|      Branco|Produtor De Audio...|Seu email é: efre...|\n",
       "|   wnunes@bol.com.br|_8az1W%n7g|    SE|        Azul|          Cadeirinha|Seu email é: wnun...|\n",
       "| jribeiro@bol.com.br|MEf1X7fj_0|    PA|      Marrom|             Geólogo|Seu email é: jrib...|\n",
       "|  murilo05@gmail.com|Te&gO7GkKs|    MT|      Marrom|      Técnico De Som|Seu email é: muri...|\n",
       "| joaquim57@ig.com.br|&2E1NY+ARc|    BA|        Rosa|         Esteticista|Seu email é: joaq...|\n",
       "|alexiada-rocha@ig...|@f@!Z!2c*2|    MS|     Laranja|        Microfonista|Seu email é: alex...|\n",
       "|   pmendes@gmail.com|M+^XDBfe(2|    RR| Verde Claro|              Fiscal|Seu email é: pmen...|\n",
       "|  renan46@bol.com.br|Rp%2pVqfe$|    PA|Verde Escuro|        Contabilista|Seu email é: rena...|\n",
       "|manuelada-rosa@ho...|#hEIEOztQ3|    SE|     Violeta| Seguidor De Compras|Seu email é: manu...|\n",
       "|    usales@ig.com.br|b_8xaY$ozJ|    AM|        Rosa|           Almirante|Seu email é: usal...|\n",
       "|pereiranicolas@ho...|YA9I85Wb+2|    MA|     Amarelo|   Consultor De Moda|Seu email é: pere...|\n",
       "|cardosolivia@ig.c...|yXkDW7Ebh*|    GO|     Laranja|            Barbeiro|Seu email é: card...|\n",
       "|  brenda39@ig.com.br|XS$84Hpsnw|    RJ|      Branco|  Promotor De Vendas|Seu email é: bren...|\n",
       "|luizapeixoto@gmai...|TbKy82Kda$|    DF|       Ciano|    Implantodontista|Seu email é: luiz...|\n",
       "+--------------------+----------+------+------------+--------------------+--------------------+\n",
       "only showing top 20 rows"
      ]
     },
     "execution_count": 9,
     "metadata": {},
     "output_type": "execute_result"
    }
   ],
   "source": [
    "(\n",
    "    df\n",
    "    .withColumn('frase', F.format_string('Seu email é: %s', df.email))\n",
    ")"
   ]
  },
  {
   "cell_type": "markdown",
   "id": "3b67939d",
   "metadata": {},
   "source": [
    "# RETORNA POSICAO DE UMA STRING EM UMA DIMENSÃO\n",
    "# CONTAR CARACTERES DE UMA STRING\n",
    "# REPETIR VALOR DE UMA COLUNA\n",
    "# TIRAR ESPAÇO DE ALGUMA COLUNA\n",
    "# Preencher caracteres"
   ]
  },
  {
   "cell_type": "code",
   "execution_count": 10,
   "id": "70bad029",
   "metadata": {},
   "outputs": [
    {
     "data": {
      "text/html": [
       "<table border='1'>\n",
       "<tr><th>email</th><th>senha</th><th>estado</th><th>cor_favorita</th><th>profissao</th><th>parte_string</th><th>caract_cont</th><th>repetido</th><th>tira_espaço</th><th>Preenchido</th></tr>\n",
       "<tr><td>pedro-lucas53@gma...</td><td>+7^7E%xFBc</td><td>RR</td><td>Roxo</td><td>Jogador De Golfe</td><td>14</td><td>23</td><td>RRRRRRRRRR</td><td>pedro-lucas53@gma...</td><td>&gt;&gt;&gt;&gt;&gt;&gt;&gt;&gt;RR</td></tr>\n",
       "<tr><td>rezendeisaac@hotm...</td><td>_O_2GRnGOe</td><td>GO</td><td>Ciano</td><td>Atleta De Arremes...</td><td>13</td><td>24</td><td>GOGOGOGOGO</td><td>rezendeisaac@hotm...</td><td>&gt;&gt;&gt;&gt;&gt;&gt;&gt;&gt;GO</td></tr>\n",
       "<tr><td>felipepires@uol.c...</td><td>*Aw5EOAvy9</td><td>MG</td><td>Azul</td><td>Papiloscopista</td><td>12</td><td>22</td><td>MGMGMGMGMG</td><td>felipepires@uol.c...</td><td>&gt;&gt;&gt;&gt;&gt;&gt;&gt;&gt;MG</td></tr>\n",
       "<tr><td>stellamoraes@bol....</td><td>mw0AWYAs#s</td><td>AC</td><td>Marrom</td><td>Aeromoça</td><td>13</td><td>23</td><td>ACACACACAC</td><td>stellamoraes@bol....</td><td>&gt;&gt;&gt;&gt;&gt;&gt;&gt;&gt;AC</td></tr>\n",
       "<tr><td>wcarvalho@ig.com.br</td><td>pGD%!2Pq5X</td><td>AP</td><td>Laranja</td><td>Fonoaudiólogo</td><td>10</td><td>19</td><td>APAPAPAPAP</td><td>wcarvalho@ig.com.br</td><td>&gt;&gt;&gt;&gt;&gt;&gt;&gt;&gt;AP</td></tr>\n",
       "<tr><td>da-conceicaodavi-...</td><td>uhBbFxPA&amp;9</td><td>MG</td><td>Rosa</td><td>Taxista</td><td>23</td><td>34</td><td>MGMGMGMGMG</td><td>da-conceicaodavi-...</td><td>&gt;&gt;&gt;&gt;&gt;&gt;&gt;&gt;MG</td></tr>\n",
       "<tr><td>efreitas@bol.com.br</td><td>s#q9VZt&amp;xl</td><td>MG</td><td>Branco</td><td>Produtor De Audio...</td><td>9</td><td>19</td><td>MGMGMGMGMG</td><td>efreitas@bol.com.br</td><td>&gt;&gt;&gt;&gt;&gt;&gt;&gt;&gt;MG</td></tr>\n",
       "<tr><td>wnunes@bol.com.br</td><td>_8az1W%n7g</td><td>SE</td><td>Azul</td><td>Cadeirinha</td><td>7</td><td>17</td><td>SESESESESE</td><td>wnunes@bol.com.br</td><td>&gt;&gt;&gt;&gt;&gt;&gt;&gt;&gt;SE</td></tr>\n",
       "<tr><td>jribeiro@bol.com.br</td><td>MEf1X7fj_0</td><td>PA</td><td>Marrom</td><td>Geólogo</td><td>9</td><td>19</td><td>PAPAPAPAPA</td><td>jribeiro@bol.com.br</td><td>&gt;&gt;&gt;&gt;&gt;&gt;&gt;&gt;PA</td></tr>\n",
       "<tr><td>murilo05@gmail.com</td><td>Te&amp;gO7GkKs</td><td>MT</td><td>Marrom</td><td>Técnico De Som</td><td>9</td><td>18</td><td>MTMTMTMTMT</td><td>murilo05@gmail.com</td><td>&gt;&gt;&gt;&gt;&gt;&gt;&gt;&gt;MT</td></tr>\n",
       "<tr><td>joaquim57@ig.com.br</td><td>&amp;2E1NY+ARc</td><td>BA</td><td>Rosa</td><td>Esteticista</td><td>10</td><td>19</td><td>BABABABABA</td><td>joaquim57@ig.com.br</td><td>&gt;&gt;&gt;&gt;&gt;&gt;&gt;&gt;BA</td></tr>\n",
       "<tr><td>alexiada-rocha@ig...</td><td>@f@!Z!2c*2</td><td>MS</td><td>Laranja</td><td>Microfonista</td><td>15</td><td>24</td><td>MSMSMSMSMS</td><td>alexiada-rocha@ig...</td><td>&gt;&gt;&gt;&gt;&gt;&gt;&gt;&gt;MS</td></tr>\n",
       "<tr><td>pmendes@gmail.com</td><td>M+^XDBfe(2</td><td>RR</td><td>Verde Claro</td><td>Fiscal</td><td>8</td><td>17</td><td>RRRRRRRRRR</td><td>pmendes@gmail.com</td><td>&gt;&gt;&gt;&gt;&gt;&gt;&gt;&gt;RR</td></tr>\n",
       "<tr><td>renan46@bol.com.br</td><td>Rp%2pVqfe$</td><td>PA</td><td>Verde Escuro</td><td>Contabilista</td><td>8</td><td>18</td><td>PAPAPAPAPA</td><td>renan46@bol.com.br</td><td>&gt;&gt;&gt;&gt;&gt;&gt;&gt;&gt;PA</td></tr>\n",
       "<tr><td>manuelada-rosa@ho...</td><td>#hEIEOztQ3</td><td>SE</td><td>Violeta</td><td>Seguidor De Compras</td><td>15</td><td>26</td><td>SESESESESE</td><td>manuelada-rosa@ho...</td><td>&gt;&gt;&gt;&gt;&gt;&gt;&gt;&gt;SE</td></tr>\n",
       "<tr><td>usales@ig.com.br</td><td>b_8xaY$ozJ</td><td>AM</td><td>Rosa</td><td>Almirante</td><td>7</td><td>16</td><td>AMAMAMAMAM</td><td>usales@ig.com.br</td><td>&gt;&gt;&gt;&gt;&gt;&gt;&gt;&gt;AM</td></tr>\n",
       "<tr><td>pereiranicolas@ho...</td><td>YA9I85Wb+2</td><td>MA</td><td>Amarelo</td><td>Consultor De Moda</td><td>15</td><td>26</td><td>MAMAMAMAMA</td><td>pereiranicolas@ho...</td><td>&gt;&gt;&gt;&gt;&gt;&gt;&gt;&gt;MA</td></tr>\n",
       "<tr><td>cardosolivia@ig.c...</td><td>yXkDW7Ebh*</td><td>GO</td><td>Laranja</td><td>Barbeiro</td><td>13</td><td>22</td><td>GOGOGOGOGO</td><td>cardosolivia@ig.c...</td><td>&gt;&gt;&gt;&gt;&gt;&gt;&gt;&gt;GO</td></tr>\n",
       "<tr><td>brenda39@ig.com.br</td><td>XS$84Hpsnw</td><td>RJ</td><td>Branco</td><td>Promotor De Vendas</td><td>9</td><td>18</td><td>RJRJRJRJRJ</td><td>brenda39@ig.com.br</td><td>&gt;&gt;&gt;&gt;&gt;&gt;&gt;&gt;RJ</td></tr>\n",
       "<tr><td>luizapeixoto@gmai...</td><td>TbKy82Kda$</td><td>DF</td><td>Ciano</td><td>Implantodontista</td><td>13</td><td>22</td><td>DFDFDFDFDF</td><td>luizapeixoto@gmai...</td><td>&gt;&gt;&gt;&gt;&gt;&gt;&gt;&gt;DF</td></tr>\n",
       "</table>\n",
       "only showing top 20 rows\n"
      ],
      "text/plain": [
       "+--------------------+----------+------+------------+--------------------+------------+-----------+----------+--------------------+----------+\n",
       "|               email|     senha|estado|cor_favorita|           profissao|parte_string|caract_cont|  repetido|         tira_espaço|Preenchido|\n",
       "+--------------------+----------+------+------------+--------------------+------------+-----------+----------+--------------------+----------+\n",
       "|pedro-lucas53@gma...|+7^7E%xFBc|    RR|        Roxo|    Jogador De Golfe|          14|         23|RRRRRRRRRR|pedro-lucas53@gma...|>>>>>>>>RR|\n",
       "|rezendeisaac@hotm...|_O_2GRnGOe|    GO|       Ciano|Atleta De Arremes...|          13|         24|GOGOGOGOGO|rezendeisaac@hotm...|>>>>>>>>GO|\n",
       "|felipepires@uol.c...|*Aw5EOAvy9|    MG|        Azul|      Papiloscopista|          12|         22|MGMGMGMGMG|felipepires@uol.c...|>>>>>>>>MG|\n",
       "|stellamoraes@bol....|mw0AWYAs#s|    AC|      Marrom|            Aeromoça|          13|         23|ACACACACAC|stellamoraes@bol....|>>>>>>>>AC|\n",
       "| wcarvalho@ig.com.br|pGD%!2Pq5X|    AP|     Laranja|       Fonoaudiólogo|          10|         19|APAPAPAPAP| wcarvalho@ig.com.br|>>>>>>>>AP|\n",
       "|da-conceicaodavi-...|uhBbFxPA&9|    MG|        Rosa|             Taxista|          23|         34|MGMGMGMGMG|da-conceicaodavi-...|>>>>>>>>MG|\n",
       "| efreitas@bol.com.br|s#q9VZt&xl|    MG|      Branco|Produtor De Audio...|           9|         19|MGMGMGMGMG| efreitas@bol.com.br|>>>>>>>>MG|\n",
       "|   wnunes@bol.com.br|_8az1W%n7g|    SE|        Azul|          Cadeirinha|           7|         17|SESESESESE|   wnunes@bol.com.br|>>>>>>>>SE|\n",
       "| jribeiro@bol.com.br|MEf1X7fj_0|    PA|      Marrom|             Geólogo|           9|         19|PAPAPAPAPA| jribeiro@bol.com.br|>>>>>>>>PA|\n",
       "|  murilo05@gmail.com|Te&gO7GkKs|    MT|      Marrom|      Técnico De Som|           9|         18|MTMTMTMTMT|  murilo05@gmail.com|>>>>>>>>MT|\n",
       "| joaquim57@ig.com.br|&2E1NY+ARc|    BA|        Rosa|         Esteticista|          10|         19|BABABABABA| joaquim57@ig.com.br|>>>>>>>>BA|\n",
       "|alexiada-rocha@ig...|@f@!Z!2c*2|    MS|     Laranja|        Microfonista|          15|         24|MSMSMSMSMS|alexiada-rocha@ig...|>>>>>>>>MS|\n",
       "|   pmendes@gmail.com|M+^XDBfe(2|    RR| Verde Claro|              Fiscal|           8|         17|RRRRRRRRRR|   pmendes@gmail.com|>>>>>>>>RR|\n",
       "|  renan46@bol.com.br|Rp%2pVqfe$|    PA|Verde Escuro|        Contabilista|           8|         18|PAPAPAPAPA|  renan46@bol.com.br|>>>>>>>>PA|\n",
       "|manuelada-rosa@ho...|#hEIEOztQ3|    SE|     Violeta| Seguidor De Compras|          15|         26|SESESESESE|manuelada-rosa@ho...|>>>>>>>>SE|\n",
       "|    usales@ig.com.br|b_8xaY$ozJ|    AM|        Rosa|           Almirante|           7|         16|AMAMAMAMAM|    usales@ig.com.br|>>>>>>>>AM|\n",
       "|pereiranicolas@ho...|YA9I85Wb+2|    MA|     Amarelo|   Consultor De Moda|          15|         26|MAMAMAMAMA|pereiranicolas@ho...|>>>>>>>>MA|\n",
       "|cardosolivia@ig.c...|yXkDW7Ebh*|    GO|     Laranja|            Barbeiro|          13|         22|GOGOGOGOGO|cardosolivia@ig.c...|>>>>>>>>GO|\n",
       "|  brenda39@ig.com.br|XS$84Hpsnw|    RJ|      Branco|  Promotor De Vendas|           9|         18|RJRJRJRJRJ|  brenda39@ig.com.br|>>>>>>>>RJ|\n",
       "|luizapeixoto@gmai...|TbKy82Kda$|    DF|       Ciano|    Implantodontista|          13|         22|DFDFDFDFDF|luizapeixoto@gmai...|>>>>>>>>DF|\n",
       "+--------------------+----------+------+------------+--------------------+------------+-----------+----------+--------------------+----------+\n",
       "only showing top 20 rows"
      ]
     },
     "execution_count": 10,
     "metadata": {},
     "output_type": "execute_result"
    }
   ],
   "source": [
    "(\n",
    "    df.withColumn('parte_string', F.instr(df.email, \"@\"))\n",
    "    .withColumn('caract_cont', F.length(df.email))\n",
    "    .withColumn('repetido', F.repeat(df.estado, 5))\n",
    "    .withColumn('tira_espaço', F.trim(df.email))\n",
    "    .withColumn('Preenchido', F.lpad(df.estado, 10, '>'))\n",
    "\n",
    ")"
   ]
  },
  {
   "cell_type": "markdown",
   "id": "a5bc301a",
   "metadata": {},
   "source": [
    "# USANDO FUNCOES NUMERICAS"
   ]
  },
  {
   "cell_type": "code",
   "execution_count": 11,
   "id": "d29893f6",
   "metadata": {},
   "outputs": [
    {
     "data": {
      "text/html": [
       "<table border='1'>\n",
       "<tr><th>nome</th><th>altura</th><th>peso</th></tr>\n",
       "<tr><td>Pietra Fernandes</td><td>176</td><td>97.88</td></tr>\n",
       "<tr><td>Ana Júlia da Rosa</td><td>163</td><td>80.56</td></tr>\n",
       "<tr><td>Fernando Martins</td><td>150</td><td>85.55</td></tr>\n",
       "<tr><td>Isis Silveira</td><td>173</td><td>70.1</td></tr>\n",
       "<tr><td>Cecília Porto</td><td>190</td><td>93.42</td></tr>\n",
       "<tr><td>Sra. Bruna Almeida</td><td>198</td><td>73.07</td></tr>\n",
       "<tr><td>Maria Julia Silva</td><td>170</td><td>71.36</td></tr>\n",
       "<tr><td>Pedro Henrique da...</td><td>188</td><td>105.57</td></tr>\n",
       "<tr><td>Davi Lucas Campos</td><td>180</td><td>98.49</td></tr>\n",
       "<tr><td>Juan Gonçalves</td><td>175</td><td>71.87</td></tr>\n",
       "</table>\n"
      ],
      "text/plain": [
       "+--------------------+------+------+\n",
       "|                nome|altura|  peso|\n",
       "+--------------------+------+------+\n",
       "|    Pietra Fernandes|   176| 97.88|\n",
       "|   Ana Júlia da Rosa|   163| 80.56|\n",
       "|    Fernando Martins|   150| 85.55|\n",
       "|       Isis Silveira|   173|  70.1|\n",
       "|       Cecília Porto|   190| 93.42|\n",
       "|  Sra. Bruna Almeida|   198| 73.07|\n",
       "|   Maria Julia Silva|   170| 71.36|\n",
       "|Pedro Henrique da...|   188|105.57|\n",
       "|   Davi Lucas Campos|   180| 98.49|\n",
       "|      Juan Gonçalves|   175| 71.87|\n",
       "+--------------------+------+------+"
      ]
     },
     "execution_count": 11,
     "metadata": {},
     "output_type": "execute_result"
    }
   ],
   "source": [
    "df = spark.read.parquet('.//data/DATASETS/DATASETS/IMC.parquet')\n",
    "df"
   ]
  },
  {
   "cell_type": "code",
   "execution_count": 12,
   "id": "20950e0f",
   "metadata": {},
   "outputs": [],
   "source": [
    "# ARREDONDAMENTO DE NUMEROS"
   ]
  },
  {
   "cell_type": "code",
   "execution_count": 13,
   "id": "52067834",
   "metadata": {},
   "outputs": [
    {
     "data": {
      "text/html": [
       "<table border='1'>\n",
       "<tr><th>nome</th><th>altura</th><th>peso</th><th>round</th><th>ceil_teto</th><th>floor_piso</th><th>abs_absoluto</th><th>altura_negativa</th><th>pow_potencia</th><th>sqrt_raiz</th><th>imc</th></tr>\n",
       "<tr><td>Pietra Fernandes</td><td>176</td><td>97.88</td><td>98.0</td><td>98</td><td>97</td><td>97.88</td><td>-97.88</td><td>9580.4944</td><td>9.89343216482531</td><td>54.0</td></tr>\n",
       "<tr><td>Ana Júlia da Rosa</td><td>163</td><td>80.56</td><td>81.0</td><td>81</td><td>80</td><td>80.56</td><td>-80.56</td><td>6489.913600000001</td><td>8.97552226892675</td><td>40.0</td></tr>\n",
       "<tr><td>Fernando Martins</td><td>150</td><td>85.55</td><td>86.0</td><td>86</td><td>85</td><td>85.55</td><td>-85.55</td><td>7318.8025</td><td>9.249324299644812</td><td>49.0</td></tr>\n",
       "<tr><td>Isis Silveira</td><td>173</td><td>70.1</td><td>70.0</td><td>71</td><td>70</td><td>70.1</td><td>-70.1</td><td>4914.009999999999</td><td>8.372574275573792</td><td>28.0</td></tr>\n",
       "<tr><td>Cecília Porto</td><td>190</td><td>93.42</td><td>93.0</td><td>94</td><td>93</td><td>93.42</td><td>-93.42</td><td>8727.296400000001</td><td>9.665402216152208</td><td>46.0</td></tr>\n",
       "<tr><td>Sra. Bruna Almeida</td><td>198</td><td>73.07</td><td>73.0</td><td>74</td><td>73</td><td>73.07</td><td>-73.07</td><td>5339.224899999999</td><td>8.548099203916623</td><td>27.0</td></tr>\n",
       "<tr><td>Maria Julia Silva</td><td>170</td><td>71.36</td><td>71.0</td><td>72</td><td>71</td><td>71.36</td><td>-71.36</td><td>5092.2496</td><td>8.44748483277715</td><td>30.0</td></tr>\n",
       "<tr><td>Pedro Henrique da...</td><td>188</td><td>105.57</td><td>106.0</td><td>106</td><td>105</td><td>105.57</td><td>-105.57</td><td>11145.024899999999</td><td>10.274726273726225</td><td>59.0</td></tr>\n",
       "<tr><td>Davi Lucas Campos</td><td>180</td><td>98.49</td><td>98.0</td><td>99</td><td>98</td><td>98.49</td><td>-98.49</td><td>9700.280099999998</td><td>9.924212815130478</td><td>54.0</td></tr>\n",
       "<tr><td>Juan Gonçalves</td><td>175</td><td>71.87</td><td>72.0</td><td>72</td><td>71</td><td>71.87</td><td>-71.87</td><td>5165.2969</td><td>8.477617589865682</td><td>30.0</td></tr>\n",
       "</table>\n"
      ],
      "text/plain": [
       "+--------------------+------+------+-----+---------+----------+------------+---------------+------------------+------------------+----+\n",
       "|                nome|altura|  peso|round|ceil_teto|floor_piso|abs_absoluto|altura_negativa|      pow_potencia|         sqrt_raiz| imc|\n",
       "+--------------------+------+------+-----+---------+----------+------------+---------------+------------------+------------------+----+\n",
       "|    Pietra Fernandes|   176| 97.88| 98.0|       98|        97|       97.88|         -97.88|         9580.4944|  9.89343216482531|54.0|\n",
       "|   Ana Júlia da Rosa|   163| 80.56| 81.0|       81|        80|       80.56|         -80.56| 6489.913600000001|  8.97552226892675|40.0|\n",
       "|    Fernando Martins|   150| 85.55| 86.0|       86|        85|       85.55|         -85.55|         7318.8025| 9.249324299644812|49.0|\n",
       "|       Isis Silveira|   173|  70.1| 70.0|       71|        70|        70.1|          -70.1| 4914.009999999999| 8.372574275573792|28.0|\n",
       "|       Cecília Porto|   190| 93.42| 93.0|       94|        93|       93.42|         -93.42| 8727.296400000001| 9.665402216152208|46.0|\n",
       "|  Sra. Bruna Almeida|   198| 73.07| 73.0|       74|        73|       73.07|         -73.07| 5339.224899999999| 8.548099203916623|27.0|\n",
       "|   Maria Julia Silva|   170| 71.36| 71.0|       72|        71|       71.36|         -71.36|         5092.2496|  8.44748483277715|30.0|\n",
       "|Pedro Henrique da...|   188|105.57|106.0|      106|       105|      105.57|        -105.57|11145.024899999999|10.274726273726225|59.0|\n",
       "|   Davi Lucas Campos|   180| 98.49| 98.0|       99|        98|       98.49|         -98.49| 9700.280099999998| 9.924212815130478|54.0|\n",
       "|      Juan Gonçalves|   175| 71.87| 72.0|       72|        71|       71.87|         -71.87|         5165.2969| 8.477617589865682|30.0|\n",
       "+--------------------+------+------+-----+---------+----------+------------+---------------+------------------+------------------+----+"
      ]
     },
     "execution_count": 13,
     "metadata": {},
     "output_type": "execute_result"
    }
   ],
   "source": [
    "(\n",
    "    df\n",
    "    .withColumn('round', F.round(df.peso, 0))\n",
    "    .withColumn('ceil_teto', F.ceil(df.peso))\n",
    "    .withColumn('floor_piso', F.floor(df.peso))\n",
    "    .withColumn('abs_absoluto', F.abs(df.peso)) # util quando existe numeros negativos e queremos ver somente o numero positivo\n",
    "    .withColumn('altura_negativa', -F.abs(df.peso))\n",
    "    .withColumn('pow_potencia', F.pow(df.peso, 2)) # Eleva a potencia\n",
    "    .withColumn('sqrt_raiz', F.sqrt(df.peso)) # Raiz quadrada\n",
    "    .withColumn('imc', F.round(F.pow(df.peso, 2) / df.altura))\n",
    ")"
   ]
  },
  {
   "cell_type": "markdown",
   "id": "2a4eac8f",
   "metadata": {},
   "source": [
    "# USANDO FUNCOES PARA DATA"
   ]
  },
  {
   "cell_type": "code",
   "execution_count": 16,
   "id": "a30ee870",
   "metadata": {},
   "outputs": [
    {
     "data": {
      "text/html": [
       "<table border='1'>\n",
       "<tr><th>data_cadastro</th><th>data_de_nascimento</th></tr>\n",
       "<tr><td>2023-02-26</td><td>2006-12-18</td></tr>\n",
       "<tr><td>2023-02-16</td><td>1992-06-17</td></tr>\n",
       "<tr><td>2023-01-02</td><td>1921-11-11</td></tr>\n",
       "<tr><td>2023-01-08</td><td>2021-06-01</td></tr>\n",
       "<tr><td>2023-02-14</td><td>1969-10-28</td></tr>\n",
       "<tr><td>2023-03-07</td><td>1986-05-19</td></tr>\n",
       "<tr><td>2023-01-13</td><td>2018-04-20</td></tr>\n",
       "<tr><td>2023-02-04</td><td>1996-05-12</td></tr>\n",
       "<tr><td>2023-03-02</td><td>2021-10-05</td></tr>\n",
       "<tr><td>2023-02-21</td><td>1917-01-05</td></tr>\n",
       "<tr><td>2023-01-25</td><td>1912-05-25</td></tr>\n",
       "<tr><td>2023-02-18</td><td>1920-05-26</td></tr>\n",
       "<tr><td>2023-01-19</td><td>1938-03-11</td></tr>\n",
       "<tr><td>2023-02-01</td><td>1922-09-01</td></tr>\n",
       "<tr><td>2023-01-07</td><td>2013-01-10</td></tr>\n",
       "<tr><td>2023-01-05</td><td>1992-10-16</td></tr>\n",
       "<tr><td>2023-01-24</td><td>1945-11-18</td></tr>\n",
       "<tr><td>2023-01-22</td><td>1915-11-15</td></tr>\n",
       "<tr><td>2023-02-16</td><td>1964-02-01</td></tr>\n",
       "<tr><td>2023-02-25</td><td>1959-02-01</td></tr>\n",
       "</table>\n",
       "only showing top 20 rows\n"
      ],
      "text/plain": [
       "+-------------+------------------+\n",
       "|data_cadastro|data_de_nascimento|\n",
       "+-------------+------------------+\n",
       "|   2023-02-26|        2006-12-18|\n",
       "|   2023-02-16|        1992-06-17|\n",
       "|   2023-01-02|        1921-11-11|\n",
       "|   2023-01-08|        2021-06-01|\n",
       "|   2023-02-14|        1969-10-28|\n",
       "|   2023-03-07|        1986-05-19|\n",
       "|   2023-01-13|        2018-04-20|\n",
       "|   2023-02-04|        1996-05-12|\n",
       "|   2023-03-02|        2021-10-05|\n",
       "|   2023-02-21|        1917-01-05|\n",
       "|   2023-01-25|        1912-05-25|\n",
       "|   2023-02-18|        1920-05-26|\n",
       "|   2023-01-19|        1938-03-11|\n",
       "|   2023-02-01|        1922-09-01|\n",
       "|   2023-01-07|        2013-01-10|\n",
       "|   2023-01-05|        1992-10-16|\n",
       "|   2023-01-24|        1945-11-18|\n",
       "|   2023-01-22|        1915-11-15|\n",
       "|   2023-02-16|        1964-02-01|\n",
       "|   2023-02-25|        1959-02-01|\n",
       "+-------------+------------------+\n",
       "only showing top 20 rows"
      ]
     },
     "execution_count": 16,
     "metadata": {},
     "output_type": "execute_result"
    }
   ],
   "source": [
    "df_data =   spark.read.parquet('.//data/DATASETS/DATASETS/LOGINS.parquet').select('data_cadastro', 'data_de_nascimento')\n",
    "df_data"
   ]
  },
  {
   "cell_type": "markdown",
   "id": "60564637",
   "metadata": {},
   "source": [
    "# LIDANDO COM DATAS"
   ]
  },
  {
   "cell_type": "code",
   "execution_count": 42,
   "id": "4dfe9563",
   "metadata": {},
   "outputs": [
    {
     "data": {
      "text/html": [
       "<table border='1'>\n",
       "<tr><th>data_cadastro</th><th>data_de_nascimento</th><th>add_one_month</th><th>less_one_month</th><th>Data atual</th><th>Dia e Hora atual</th><th>Somando dias</th><th>Subtraindo dias</th><th>Data formatada</th><th>Diferença de dias</th><th>Dia do Mes</th><th>Dia da Semana</th><th>Semana do Ano</th><th>Ano de uma data</th><th>Dia Anterior</th><th>Criar Data</th></tr>\n",
       "<tr><td>2023-02-26</td><td>2006-12-18</td><td>2023-03-26</td><td>2023-01-26</td><td>2025-06-14</td><td>2025-06-14 16:52:...</td><td>2023-03-18</td><td>2023-02-16</td><td>26/2/2023</td><td>-5914</td><td>18</td><td>2</td><td>51</td><td>2006</td><td>2006-12-31</td><td>2025-06-06</td></tr>\n",
       "<tr><td>2023-02-16</td><td>1992-06-17</td><td>2023-03-16</td><td>2023-01-16</td><td>2025-06-14</td><td>2025-06-14 16:52:...</td><td>2023-03-08</td><td>2023-02-06</td><td>16/2/2023</td><td>-11201</td><td>17</td><td>4</td><td>25</td><td>1992</td><td>1992-06-30</td><td>2025-06-06</td></tr>\n",
       "<tr><td>2023-01-02</td><td>1921-11-11</td><td>2023-02-02</td><td>2022-12-02</td><td>2025-06-14</td><td>2025-06-14 16:52:...</td><td>2023-01-22</td><td>2022-12-23</td><td>2/1/2023</td><td>-36942</td><td>11</td><td>6</td><td>45</td><td>1921</td><td>1921-11-30</td><td>2025-06-06</td></tr>\n",
       "<tr><td>2023-01-08</td><td>2021-06-01</td><td>2023-02-08</td><td>2022-12-08</td><td>2025-06-14</td><td>2025-06-14 16:52:...</td><td>2023-01-28</td><td>2022-12-29</td><td>8/1/2023</td><td>-586</td><td>1</td><td>3</td><td>22</td><td>2021</td><td>2021-06-30</td><td>2025-06-06</td></tr>\n",
       "<tr><td>2023-02-14</td><td>1969-10-28</td><td>2023-03-14</td><td>2023-01-14</td><td>2025-06-14</td><td>2025-06-14 16:52:...</td><td>2023-03-06</td><td>2023-02-04</td><td>14/2/2023</td><td>-19467</td><td>28</td><td>3</td><td>44</td><td>1969</td><td>1969-10-31</td><td>2025-06-06</td></tr>\n",
       "<tr><td>2023-03-07</td><td>1986-05-19</td><td>2023-04-07</td><td>2023-02-07</td><td>2025-06-14</td><td>2025-06-14 16:52:...</td><td>2023-03-27</td><td>2023-02-25</td><td>7/3/2023</td><td>-13441</td><td>19</td><td>2</td><td>21</td><td>1986</td><td>1986-05-31</td><td>2025-06-06</td></tr>\n",
       "<tr><td>2023-01-13</td><td>2018-04-20</td><td>2023-02-13</td><td>2022-12-13</td><td>2025-06-14</td><td>2025-06-14 16:52:...</td><td>2023-02-02</td><td>2023-01-03</td><td>13/1/2023</td><td>-1729</td><td>20</td><td>6</td><td>16</td><td>2018</td><td>2018-04-30</td><td>2025-06-06</td></tr>\n",
       "<tr><td>2023-02-04</td><td>1996-05-12</td><td>2023-03-04</td><td>2023-01-04</td><td>2025-06-14</td><td>2025-06-14 16:52:...</td><td>2023-02-24</td><td>2023-01-25</td><td>4/2/2023</td><td>-9764</td><td>12</td><td>1</td><td>19</td><td>1996</td><td>1996-05-31</td><td>2025-06-06</td></tr>\n",
       "<tr><td>2023-03-02</td><td>2021-10-05</td><td>2023-04-02</td><td>2023-02-02</td><td>2025-06-14</td><td>2025-06-14 16:52:...</td><td>2023-03-22</td><td>2023-02-20</td><td>2/3/2023</td><td>-513</td><td>5</td><td>3</td><td>40</td><td>2021</td><td>2021-10-31</td><td>2025-06-06</td></tr>\n",
       "<tr><td>2023-02-21</td><td>1917-01-05</td><td>2023-03-21</td><td>2023-01-21</td><td>2025-06-14</td><td>2025-06-14 16:52:...</td><td>2023-03-13</td><td>2023-02-11</td><td>21/2/2023</td><td>-38763</td><td>5</td><td>6</td><td>1</td><td>1917</td><td>1917-01-31</td><td>2025-06-06</td></tr>\n",
       "<tr><td>2023-01-25</td><td>1912-05-25</td><td>2023-02-25</td><td>2022-12-25</td><td>2025-06-14</td><td>2025-06-14 16:52:...</td><td>2023-02-14</td><td>2023-01-15</td><td>25/1/2023</td><td>-40422</td><td>25</td><td>7</td><td>21</td><td>1912</td><td>1912-05-31</td><td>2025-06-06</td></tr>\n",
       "<tr><td>2023-02-18</td><td>1920-05-26</td><td>2023-03-18</td><td>2023-01-18</td><td>2025-06-14</td><td>2025-06-14 16:52:...</td><td>2023-03-10</td><td>2023-02-08</td><td>18/2/2023</td><td>-37523</td><td>26</td><td>4</td><td>22</td><td>1920</td><td>1920-05-31</td><td>2025-06-06</td></tr>\n",
       "<tr><td>2023-01-19</td><td>1938-03-11</td><td>2023-02-19</td><td>2022-12-19</td><td>2025-06-14</td><td>2025-06-14 16:52:...</td><td>2023-02-08</td><td>2023-01-09</td><td>19/1/2023</td><td>-30995</td><td>11</td><td>6</td><td>10</td><td>1938</td><td>1938-03-31</td><td>2025-06-06</td></tr>\n",
       "<tr><td>2023-02-01</td><td>1922-09-01</td><td>2023-03-01</td><td>2023-01-01</td><td>2025-06-14</td><td>2025-06-14 16:52:...</td><td>2023-02-21</td><td>2023-01-22</td><td>1/2/2023</td><td>-36678</td><td>1</td><td>6</td><td>35</td><td>1922</td><td>1922-09-30</td><td>2025-06-06</td></tr>\n",
       "<tr><td>2023-01-07</td><td>2013-01-10</td><td>2023-02-07</td><td>2022-12-07</td><td>2025-06-14</td><td>2025-06-14 16:52:...</td><td>2023-01-27</td><td>2022-12-28</td><td>7/1/2023</td><td>-3649</td><td>10</td><td>5</td><td>2</td><td>2013</td><td>2013-01-31</td><td>2025-06-06</td></tr>\n",
       "<tr><td>2023-01-05</td><td>1992-10-16</td><td>2023-02-05</td><td>2022-12-05</td><td>2025-06-14</td><td>2025-06-14 16:52:...</td><td>2023-01-25</td><td>2022-12-26</td><td>5/1/2023</td><td>-11038</td><td>16</td><td>6</td><td>42</td><td>1992</td><td>1992-10-31</td><td>2025-06-06</td></tr>\n",
       "<tr><td>2023-01-24</td><td>1945-11-18</td><td>2023-02-24</td><td>2022-12-24</td><td>2025-06-14</td><td>2025-06-14 16:52:...</td><td>2023-02-13</td><td>2023-01-14</td><td>24/1/2023</td><td>-28191</td><td>18</td><td>1</td><td>46</td><td>1945</td><td>1945-11-30</td><td>2025-06-06</td></tr>\n",
       "<tr><td>2023-01-22</td><td>1915-11-15</td><td>2023-02-22</td><td>2022-12-22</td><td>2025-06-14</td><td>2025-06-14 16:52:...</td><td>2023-02-11</td><td>2023-01-12</td><td>22/1/2023</td><td>-39150</td><td>15</td><td>2</td><td>46</td><td>1915</td><td>1915-11-30</td><td>2025-06-06</td></tr>\n",
       "<tr><td>2023-02-16</td><td>1964-02-01</td><td>2023-03-16</td><td>2023-01-16</td><td>2025-06-14</td><td>2025-06-14 16:52:...</td><td>2023-03-08</td><td>2023-02-06</td><td>16/2/2023</td><td>-21565</td><td>1</td><td>7</td><td>5</td><td>1964</td><td>1964-02-29</td><td>2025-06-06</td></tr>\n",
       "<tr><td>2023-02-25</td><td>1959-02-01</td><td>2023-03-25</td><td>2023-01-25</td><td>2025-06-14</td><td>2025-06-14 16:52:...</td><td>2023-03-17</td><td>2023-02-15</td><td>25/2/2023</td><td>-23400</td><td>1</td><td>1</td><td>5</td><td>1959</td><td>1959-02-28</td><td>2025-06-06</td></tr>\n",
       "</table>\n",
       "only showing top 20 rows\n"
      ],
      "text/plain": [
       "+-------------+------------------+-------------+--------------+----------+--------------------+------------+---------------+--------------+-----------------+----------+-------------+-------------+---------------+------------+----------+\n",
       "|data_cadastro|data_de_nascimento|add_one_month|less_one_month|Data atual|    Dia e Hora atual|Somando dias|Subtraindo dias|Data formatada|Diferença de dias|Dia do Mes|Dia da Semana|Semana do Ano|Ano de uma data|Dia Anterior|Criar Data|\n",
       "+-------------+------------------+-------------+--------------+----------+--------------------+------------+---------------+--------------+-----------------+----------+-------------+-------------+---------------+------------+----------+\n",
       "|   2023-02-26|        2006-12-18|   2023-03-26|    2023-01-26|2025-06-14|2025-06-14 16:52:...|  2023-03-18|     2023-02-16|     26/2/2023|            -5914|        18|            2|           51|           2006|  2006-12-31|2025-06-06|\n",
       "|   2023-02-16|        1992-06-17|   2023-03-16|    2023-01-16|2025-06-14|2025-06-14 16:52:...|  2023-03-08|     2023-02-06|     16/2/2023|           -11201|        17|            4|           25|           1992|  1992-06-30|2025-06-06|\n",
       "|   2023-01-02|        1921-11-11|   2023-02-02|    2022-12-02|2025-06-14|2025-06-14 16:52:...|  2023-01-22|     2022-12-23|      2/1/2023|           -36942|        11|            6|           45|           1921|  1921-11-30|2025-06-06|\n",
       "|   2023-01-08|        2021-06-01|   2023-02-08|    2022-12-08|2025-06-14|2025-06-14 16:52:...|  2023-01-28|     2022-12-29|      8/1/2023|             -586|         1|            3|           22|           2021|  2021-06-30|2025-06-06|\n",
       "|   2023-02-14|        1969-10-28|   2023-03-14|    2023-01-14|2025-06-14|2025-06-14 16:52:...|  2023-03-06|     2023-02-04|     14/2/2023|           -19467|        28|            3|           44|           1969|  1969-10-31|2025-06-06|\n",
       "|   2023-03-07|        1986-05-19|   2023-04-07|    2023-02-07|2025-06-14|2025-06-14 16:52:...|  2023-03-27|     2023-02-25|      7/3/2023|           -13441|        19|            2|           21|           1986|  1986-05-31|2025-06-06|\n",
       "|   2023-01-13|        2018-04-20|   2023-02-13|    2022-12-13|2025-06-14|2025-06-14 16:52:...|  2023-02-02|     2023-01-03|     13/1/2023|            -1729|        20|            6|           16|           2018|  2018-04-30|2025-06-06|\n",
       "|   2023-02-04|        1996-05-12|   2023-03-04|    2023-01-04|2025-06-14|2025-06-14 16:52:...|  2023-02-24|     2023-01-25|      4/2/2023|            -9764|        12|            1|           19|           1996|  1996-05-31|2025-06-06|\n",
       "|   2023-03-02|        2021-10-05|   2023-04-02|    2023-02-02|2025-06-14|2025-06-14 16:52:...|  2023-03-22|     2023-02-20|      2/3/2023|             -513|         5|            3|           40|           2021|  2021-10-31|2025-06-06|\n",
       "|   2023-02-21|        1917-01-05|   2023-03-21|    2023-01-21|2025-06-14|2025-06-14 16:52:...|  2023-03-13|     2023-02-11|     21/2/2023|           -38763|         5|            6|            1|           1917|  1917-01-31|2025-06-06|\n",
       "|   2023-01-25|        1912-05-25|   2023-02-25|    2022-12-25|2025-06-14|2025-06-14 16:52:...|  2023-02-14|     2023-01-15|     25/1/2023|           -40422|        25|            7|           21|           1912|  1912-05-31|2025-06-06|\n",
       "|   2023-02-18|        1920-05-26|   2023-03-18|    2023-01-18|2025-06-14|2025-06-14 16:52:...|  2023-03-10|     2023-02-08|     18/2/2023|           -37523|        26|            4|           22|           1920|  1920-05-31|2025-06-06|\n",
       "|   2023-01-19|        1938-03-11|   2023-02-19|    2022-12-19|2025-06-14|2025-06-14 16:52:...|  2023-02-08|     2023-01-09|     19/1/2023|           -30995|        11|            6|           10|           1938|  1938-03-31|2025-06-06|\n",
       "|   2023-02-01|        1922-09-01|   2023-03-01|    2023-01-01|2025-06-14|2025-06-14 16:52:...|  2023-02-21|     2023-01-22|      1/2/2023|           -36678|         1|            6|           35|           1922|  1922-09-30|2025-06-06|\n",
       "|   2023-01-07|        2013-01-10|   2023-02-07|    2022-12-07|2025-06-14|2025-06-14 16:52:...|  2023-01-27|     2022-12-28|      7/1/2023|            -3649|        10|            5|            2|           2013|  2013-01-31|2025-06-06|\n",
       "|   2023-01-05|        1992-10-16|   2023-02-05|    2022-12-05|2025-06-14|2025-06-14 16:52:...|  2023-01-25|     2022-12-26|      5/1/2023|           -11038|        16|            6|           42|           1992|  1992-10-31|2025-06-06|\n",
       "|   2023-01-24|        1945-11-18|   2023-02-24|    2022-12-24|2025-06-14|2025-06-14 16:52:...|  2023-02-13|     2023-01-14|     24/1/2023|           -28191|        18|            1|           46|           1945|  1945-11-30|2025-06-06|\n",
       "|   2023-01-22|        1915-11-15|   2023-02-22|    2022-12-22|2025-06-14|2025-06-14 16:52:...|  2023-02-11|     2023-01-12|     22/1/2023|           -39150|        15|            2|           46|           1915|  1915-11-30|2025-06-06|\n",
       "|   2023-02-16|        1964-02-01|   2023-03-16|    2023-01-16|2025-06-14|2025-06-14 16:52:...|  2023-03-08|     2023-02-06|     16/2/2023|           -21565|         1|            7|            5|           1964|  1964-02-29|2025-06-06|\n",
       "|   2023-02-25|        1959-02-01|   2023-03-25|    2023-01-25|2025-06-14|2025-06-14 16:52:...|  2023-03-17|     2023-02-15|     25/2/2023|           -23400|         1|            1|            5|           1959|  1959-02-28|2025-06-06|\n",
       "+-------------+------------------+-------------+--------------+----------+--------------------+------------+---------------+--------------+-----------------+----------+-------------+-------------+---------------+------------+----------+\n",
       "only showing top 20 rows"
      ]
     },
     "execution_count": 42,
     "metadata": {},
     "output_type": "execute_result"
    }
   ],
   "source": [
    "(\n",
    "    df_data\n",
    "    .withColumn('add_one_month', F.add_months('data_cadastro', 1))\n",
    "    .withColumn('less_one_month', F.add_months('data_cadastro', -1))\n",
    "    .withColumn('Data atual', F.current_date())\n",
    "    .withColumn('Dia e Hora atual', F.current_timestamp())\n",
    "    .withColumn('Somando dias', F.date_add('data_cadastro', 20))\n",
    "    .withColumn('Subtraindo dias', F.date_add('data_cadastro', -10))\n",
    "    .withColumn('Data formatada', F.date_format('data_cadastro', 'd/M/y'))\n",
    "    .withColumn('Diferença de dias', F.datediff('data_de_nascimento', 'data_cadastro'))\n",
    "    .withColumn('Dia do Mes', F.dayofmonth('data_de_nascimento'))\n",
    "    .withColumn('Dia da Semana', F.dayofweek('data_de_nascimento'))\n",
    "    .withColumn('Semana do Ano', F.weekofyear('data_de_nascimento'))\n",
    "    .withColumn('Ano de uma data', F.year('data_de_nascimento'))\n",
    "    .withColumn('Dia Anterior', F.last_day('data_de_nascimento'))\n",
    "    .withColumn('Criar Data', F.make_date(F.lit('2025'), F.lit('06'), F.lit('06')))\n",
    ")"
   ]
  }
 ],
 "metadata": {
  "kernelspec": {
   "display_name": "Python 3",
   "language": "python",
   "name": "python3"
  },
  "language_info": {
   "codemirror_mode": {
    "name": "ipython",
    "version": 3
   },
   "file_extension": ".py",
   "mimetype": "text/x-python",
   "name": "python",
   "nbconvert_exporter": "python",
   "pygments_lexer": "ipython3",
   "version": "3.10.2"
  }
 },
 "nbformat": 4,
 "nbformat_minor": 5
}
