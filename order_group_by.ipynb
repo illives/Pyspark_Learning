{
 "cells": [
  {
   "cell_type": "code",
   "execution_count": 2,
   "id": "91408dce",
   "metadata": {},
   "outputs": [],
   "source": [
    "import pyspark.sql.functions as F\n",
    "from pyspark.sql import SparkSession"
   ]
  },
  {
   "cell_type": "code",
   "execution_count": 5,
   "id": "b50c5a34",
   "metadata": {},
   "outputs": [],
   "source": [
    "spark = SparkSession.builder.appName('Group_by_order')\\\n",
    ".config('spark.sql.repl.eagerEval.enabled', True).getOrCreate()"
   ]
  },
  {
   "cell_type": "code",
   "execution_count": 6,
   "id": "10c2b362",
   "metadata": {},
   "outputs": [
    {
     "data": {
      "text/html": [
       "<table border='1'>\n",
       "<tr><th>cpf</th><th>email</th><th>senha</th><th>data_de_nascimento</th><th>estado</th><th>data_cadastro</th><th>ipv4</th><th>cor_favorita</th><th>profissao</th><th>telefone</th></tr>\n",
       "<tr><td>981.507.362-12</td><td>pedro-lucas53@gma...</td><td>+7^7E%xFBc</td><td>2006-12-18</td><td>RR</td><td>2023-02-26</td><td>99.107.250.210</td><td>Roxo</td><td>Jogador De Golfe</td><td>31 7785-4046</td></tr>\n",
       "<tr><td>493.705.168-75</td><td>rezendeisaac@hotm...</td><td>_O_2GRnGOe</td><td>1992-06-17</td><td>GO</td><td>2023-02-16</td><td>197.11.26.213</td><td>Ciano</td><td>Atleta De Arremes...</td><td>(031) 0803-6753</td></tr>\n",
       "<tr><td>398.471.625-73</td><td>felipepires@uol.c...</td><td>*Aw5EOAvy9</td><td>1921-11-11</td><td>MG</td><td>2023-01-02</td><td>181.90.63.58</td><td>Azul</td><td>Papiloscopista</td><td>11 9674-0553</td></tr>\n",
       "<tr><td>092.618.354-06</td><td>stellamoraes@bol....</td><td>mw0AWYAs#s</td><td>2021-06-01</td><td>AC</td><td>2023-01-08</td><td>26.121.127.94</td><td>Marrom</td><td>Aeromoça</td><td>+55 (071) 3033 9177</td></tr>\n",
       "<tr><td>509.427.136-99</td><td>wcarvalho@ig.com.br</td><td>pGD%!2Pq5X</td><td>1969-10-28</td><td>AP</td><td>2023-02-14</td><td>76.184.52.163</td><td>Laranja</td><td>Fonoaudiólogo</td><td>+55 (071) 6272 2468</td></tr>\n",
       "<tr><td>218.795.460-94</td><td>da-conceicaodavi-...</td><td>uhBbFxPA&amp;9</td><td>1986-05-19</td><td>MG</td><td>2023-03-07</td><td>192.93.0.24</td><td>Rosa</td><td>Taxista</td><td>+55 84 0652 9691</td></tr>\n",
       "<tr><td>715.836.940-48</td><td>efreitas@bol.com.br</td><td>s#q9VZt&amp;xl</td><td>2018-04-20</td><td>MG</td><td>2023-01-13</td><td>76.251.188.148</td><td>Branco</td><td>Produtor De Audio...</td><td>+55 (084) 1363 0052</td></tr>\n",
       "<tr><td>475.698.032-56</td><td>wnunes@bol.com.br</td><td>_8az1W%n7g</td><td>1996-05-12</td><td>SE</td><td>2023-02-04</td><td>139.196.176.154</td><td>Azul</td><td>Cadeirinha</td><td>(071) 1640-3388</td></tr>\n",
       "<tr><td>217.639.540-99</td><td>jribeiro@bol.com.br</td><td>MEf1X7fj_0</td><td>2021-10-05</td><td>PA</td><td>2023-03-02</td><td>71.22.224.5</td><td>Marrom</td><td>Geólogo</td><td>21 1432 4092</td></tr>\n",
       "<tr><td>261.938.750-77</td><td>murilo05@gmail.com</td><td>Te&amp;gO7GkKs</td><td>1917-01-05</td><td>MT</td><td>2023-02-21</td><td>136.54.123.165</td><td>Marrom</td><td>Técnico De Som</td><td>+55 (084) 5878-3346</td></tr>\n",
       "<tr><td>520.831.796-68</td><td>joaquim57@ig.com.br</td><td>&amp;2E1NY+ARc</td><td>1912-05-25</td><td>BA</td><td>2023-01-25</td><td>78.196.255.126</td><td>Rosa</td><td>Esteticista</td><td>41 7914-3753</td></tr>\n",
       "<tr><td>413.087.526-44</td><td>alexiada-rocha@ig...</td><td>@f@!Z!2c*2</td><td>1920-05-26</td><td>MS</td><td>2023-02-18</td><td>182.61.65.201</td><td>Laranja</td><td>Microfonista</td><td>(021) 3739-2944</td></tr>\n",
       "<tr><td>509.287.143-14</td><td>pmendes@gmail.com</td><td>M+^XDBfe(2</td><td>1938-03-11</td><td>RR</td><td>2023-01-19</td><td>61.234.208.17</td><td>Verde Claro</td><td>Fiscal</td><td>+55 (084) 5940-1932</td></tr>\n",
       "<tr><td>563.170.492-70</td><td>renan46@bol.com.br</td><td>Rp%2pVqfe$</td><td>1922-09-01</td><td>PA</td><td>2023-02-01</td><td>122.203.83.177</td><td>Verde Escuro</td><td>Contabilista</td><td>+55 41 6248 5773</td></tr>\n",
       "<tr><td>098.712.346-78</td><td>manuelada-rosa@ho...</td><td>#hEIEOztQ3</td><td>2013-01-10</td><td>SE</td><td>2023-01-07</td><td>175.18.73.211</td><td>Violeta</td><td>Seguidor De Compras</td><td>51 0278 0564</td></tr>\n",
       "<tr><td>345.709.261-34</td><td>usales@ig.com.br</td><td>b_8xaY$ozJ</td><td>1992-10-16</td><td>AM</td><td>2023-01-05</td><td>97.93.29.75</td><td>Rosa</td><td>Almirante</td><td>(084) 8993-4521</td></tr>\n",
       "<tr><td>318.254.906-51</td><td>pereiranicolas@ho...</td><td>YA9I85Wb+2</td><td>1945-11-18</td><td>MA</td><td>2023-01-24</td><td>182.195.33.137</td><td>Amarelo</td><td>Consultor De Moda</td><td>(084) 4591 3795</td></tr>\n",
       "<tr><td>610.287.453-62</td><td>cardosolivia@ig.c...</td><td>yXkDW7Ebh*</td><td>1915-11-15</td><td>GO</td><td>2023-01-22</td><td>195.194.63.184</td><td>Laranja</td><td>Barbeiro</td><td>+55 61 8967-9563</td></tr>\n",
       "<tr><td>615.790.842-49</td><td>brenda39@ig.com.br</td><td>XS$84Hpsnw</td><td>1964-02-01</td><td>RJ</td><td>2023-02-16</td><td>21.252.226.29</td><td>Branco</td><td>Promotor De Vendas</td><td>+55 (021) 4751 2004</td></tr>\n",
       "<tr><td>624.095.138-24</td><td>luizapeixoto@gmai...</td><td>TbKy82Kda$</td><td>1959-02-01</td><td>DF</td><td>2023-02-25</td><td>105.107.23.13</td><td>Ciano</td><td>Implantodontista</td><td>84 1293 1906</td></tr>\n",
       "</table>\n",
       "only showing top 20 rows\n"
      ],
      "text/plain": [
       "+--------------+--------------------+----------+------------------+------+-------------+---------------+------------+--------------------+-------------------+\n",
       "|           cpf|               email|     senha|data_de_nascimento|estado|data_cadastro|           ipv4|cor_favorita|           profissao|           telefone|\n",
       "+--------------+--------------------+----------+------------------+------+-------------+---------------+------------+--------------------+-------------------+\n",
       "|981.507.362-12|pedro-lucas53@gma...|+7^7E%xFBc|        2006-12-18|    RR|   2023-02-26| 99.107.250.210|        Roxo|    Jogador De Golfe|       31 7785-4046|\n",
       "|493.705.168-75|rezendeisaac@hotm...|_O_2GRnGOe|        1992-06-17|    GO|   2023-02-16|  197.11.26.213|       Ciano|Atleta De Arremes...|    (031) 0803-6753|\n",
       "|398.471.625-73|felipepires@uol.c...|*Aw5EOAvy9|        1921-11-11|    MG|   2023-01-02|   181.90.63.58|        Azul|      Papiloscopista|       11 9674-0553|\n",
       "|092.618.354-06|stellamoraes@bol....|mw0AWYAs#s|        2021-06-01|    AC|   2023-01-08|  26.121.127.94|      Marrom|            Aeromoça|+55 (071) 3033 9177|\n",
       "|509.427.136-99| wcarvalho@ig.com.br|pGD%!2Pq5X|        1969-10-28|    AP|   2023-02-14|  76.184.52.163|     Laranja|       Fonoaudiólogo|+55 (071) 6272 2468|\n",
       "|218.795.460-94|da-conceicaodavi-...|uhBbFxPA&9|        1986-05-19|    MG|   2023-03-07|    192.93.0.24|        Rosa|             Taxista|   +55 84 0652 9691|\n",
       "|715.836.940-48| efreitas@bol.com.br|s#q9VZt&xl|        2018-04-20|    MG|   2023-01-13| 76.251.188.148|      Branco|Produtor De Audio...|+55 (084) 1363 0052|\n",
       "|475.698.032-56|   wnunes@bol.com.br|_8az1W%n7g|        1996-05-12|    SE|   2023-02-04|139.196.176.154|        Azul|          Cadeirinha|    (071) 1640-3388|\n",
       "|217.639.540-99| jribeiro@bol.com.br|MEf1X7fj_0|        2021-10-05|    PA|   2023-03-02|    71.22.224.5|      Marrom|             Geólogo|       21 1432 4092|\n",
       "|261.938.750-77|  murilo05@gmail.com|Te&gO7GkKs|        1917-01-05|    MT|   2023-02-21| 136.54.123.165|      Marrom|      Técnico De Som|+55 (084) 5878-3346|\n",
       "|520.831.796-68| joaquim57@ig.com.br|&2E1NY+ARc|        1912-05-25|    BA|   2023-01-25| 78.196.255.126|        Rosa|         Esteticista|       41 7914-3753|\n",
       "|413.087.526-44|alexiada-rocha@ig...|@f@!Z!2c*2|        1920-05-26|    MS|   2023-02-18|  182.61.65.201|     Laranja|        Microfonista|    (021) 3739-2944|\n",
       "|509.287.143-14|   pmendes@gmail.com|M+^XDBfe(2|        1938-03-11|    RR|   2023-01-19|  61.234.208.17| Verde Claro|              Fiscal|+55 (084) 5940-1932|\n",
       "|563.170.492-70|  renan46@bol.com.br|Rp%2pVqfe$|        1922-09-01|    PA|   2023-02-01| 122.203.83.177|Verde Escuro|        Contabilista|   +55 41 6248 5773|\n",
       "|098.712.346-78|manuelada-rosa@ho...|#hEIEOztQ3|        2013-01-10|    SE|   2023-01-07|  175.18.73.211|     Violeta| Seguidor De Compras|       51 0278 0564|\n",
       "|345.709.261-34|    usales@ig.com.br|b_8xaY$ozJ|        1992-10-16|    AM|   2023-01-05|    97.93.29.75|        Rosa|           Almirante|    (084) 8993-4521|\n",
       "|318.254.906-51|pereiranicolas@ho...|YA9I85Wb+2|        1945-11-18|    MA|   2023-01-24| 182.195.33.137|     Amarelo|   Consultor De Moda|    (084) 4591 3795|\n",
       "|610.287.453-62|cardosolivia@ig.c...|yXkDW7Ebh*|        1915-11-15|    GO|   2023-01-22| 195.194.63.184|     Laranja|            Barbeiro|   +55 61 8967-9563|\n",
       "|615.790.842-49|  brenda39@ig.com.br|XS$84Hpsnw|        1964-02-01|    RJ|   2023-02-16|  21.252.226.29|      Branco|  Promotor De Vendas|+55 (021) 4751 2004|\n",
       "|624.095.138-24|luizapeixoto@gmai...|TbKy82Kda$|        1959-02-01|    DF|   2023-02-25|  105.107.23.13|       Ciano|    Implantodontista|       84 1293 1906|\n",
       "+--------------+--------------------+----------+------------------+------+-------------+---------------+------------+--------------------+-------------------+\n",
       "only showing top 20 rows"
      ]
     },
     "execution_count": 6,
     "metadata": {},
     "output_type": "execute_result"
    }
   ],
   "source": [
    "df = spark.read.parquet('.//data/DATASETS/DATASETS/LOGINS.parquet')\n",
    "df"
   ]
  },
  {
   "cell_type": "markdown",
   "id": "ad73df80",
   "metadata": {},
   "source": [
    "# ORDENANDO COLUNA"
   ]
  },
  {
   "cell_type": "code",
   "execution_count": 9,
   "id": "5bce8867",
   "metadata": {},
   "outputs": [
    {
     "data": {
      "text/html": [
       "<table border='1'>\n",
       "<tr><th>cpf</th><th>email</th><th>senha</th><th>data_de_nascimento</th><th>estado</th><th>data_cadastro</th><th>ipv4</th><th>cor_favorita</th><th>profissao</th><th>telefone</th></tr>\n",
       "<tr><td>837.021.546-71</td><td>zpinto@yahoo.com.br</td><td>(5R*_#XVDl</td><td>1955-06-08</td><td>RR</td><td>2023-02-06</td><td>52.26.104.153</td><td>Rosa</td><td>Argumentista</td><td>(081) 8099 9690</td></tr>\n",
       "<tr><td>037.862.951-40</td><td>zlopes@gmail.com</td><td>_LYcJLlu&amp;8</td><td>1966-10-15</td><td>RR</td><td>2023-03-14</td><td>64.236.21.52</td><td>Branco</td><td>Ourives</td><td>+55 61 4893 1165</td></tr>\n",
       "<tr><td>398.051.472-23</td><td>zgomes@uol.com.br</td><td>0QZ0RHjHw%</td><td>1945-02-04</td><td>SE</td><td>2023-02-07</td><td>126.249.226.142</td><td>Magenta</td><td>Cadista</td><td>(021) 0775 2915</td></tr>\n",
       "<tr><td>482.063.597-29</td><td>zgomes@uol.com.br</td><td>zIEEb2Oma^</td><td>1990-04-25</td><td>PI</td><td>2023-03-05</td><td>152.70.106.84</td><td>Verde Escuro</td><td>Baterista</td><td>+55 (061) 9491 2341</td></tr>\n",
       "<tr><td>063.581.249-51</td><td>zfernandes@hotmai...</td><td>+I%Lr!wz0(</td><td>1962-08-22</td><td>MT</td><td>2023-02-12</td><td>53.238.78.76</td><td>Azul</td><td>Fundidor De Placa...</td><td>71 1659-6052</td></tr>\n",
       "<tr><td>341.697.025-06</td><td>ypeixoto@yahoo.co...</td><td>&amp;3H*Q_soD4</td><td>1973-12-18</td><td>BA</td><td>2023-03-15</td><td>36.64.228.53</td><td>Verde Claro</td><td>Ferreiro</td><td>0500-012-9429</td></tr>\n",
       "<tr><td>365.841.029-98</td><td>ypeixoto@hotmail.com</td><td>c$8TxYirOu</td><td>1995-06-11</td><td>SE</td><td>2023-03-13</td><td>160.93.14.250</td><td>Magenta</td><td>Engenheiro Cartog...</td><td>0800-480-3407</td></tr>\n",
       "<tr><td>891.034.672-87</td><td>ynogueira@hotmail...</td><td>@3AJHqIWkV</td><td>2021-07-30</td><td>AL</td><td>2023-01-05</td><td>143.134.33.192</td><td>Azul Escuro</td><td>Torneiro Mecânico</td><td>0500-324-4347</td></tr>\n",
       "<tr><td>794.623.805-38</td><td>ymoura@gmail.com</td><td>*bZGnLObY0</td><td>1946-05-30</td><td>AC</td><td>2023-01-02</td><td>22.66.90.218</td><td>Azul Escuro</td><td>Investigador Part...</td><td>(051) 4288 6754</td></tr>\n",
       "<tr><td>561.438.072-80</td><td>ymoraes@ig.com.br</td><td>c(6&amp;FoouMR</td><td>1998-02-23</td><td>AC</td><td>2023-02-15</td><td>8.207.21.132</td><td>Marrom</td><td>Odontologista Pre...</td><td>(061) 5069 4948</td></tr>\n",
       "<tr><td>054.681.327-53</td><td>ymelo@ig.com.br</td><td>_&amp;(RxJ@b9i</td><td>1941-11-13</td><td>MA</td><td>2023-01-21</td><td>177.136.210.154</td><td>Cinza</td><td>Argumentista</td><td>11 9674-4969</td></tr>\n",
       "<tr><td>854.209.361-51</td><td>ylima@yahoo.com.br</td><td>(w&amp;9QnOv#B</td><td>1954-07-28</td><td>PI</td><td>2023-03-01</td><td>129.24.96.93</td><td>Cinza</td><td>Dj</td><td>(081) 0026 6407</td></tr>\n",
       "<tr><td>974.612.805-11</td><td>yferreira@uol.com.br</td><td>#2KsZ_zn_P</td><td>1981-02-05</td><td>SP</td><td>2023-01-31</td><td>110.94.27.112</td><td>Verde Claro</td><td>Moldador</td><td>+55 (051) 2735 3651</td></tr>\n",
       "<tr><td>562.713.480-17</td><td>ydas-neves@bol.co...</td><td>p@0Ukod4xl</td><td>1940-03-12</td><td>SC</td><td>2023-02-22</td><td>150.110.65.174</td><td>Amarelo</td><td>Técnico Em Rede</td><td>(071) 1865 1558</td></tr>\n",
       "<tr><td>947.615.238-91</td><td>yda-paz@bol.com.br</td><td>wVmsBsEn@4</td><td>1950-11-29</td><td>SC</td><td>2023-02-13</td><td>100.172.217.120</td><td>Magenta</td><td>Surfista</td><td>+55 41 6990 8024</td></tr>\n",
       "<tr><td>395.184.760-39</td><td>yda-luz@uol.com.br</td><td>6^8)1tranG</td><td>1940-09-12</td><td>AM</td><td>2023-01-31</td><td>40.183.73.149</td><td>Marrom</td><td>Tintureiro</td><td>(021) 2493 8417</td></tr>\n",
       "<tr><td>096.741.853-48</td><td>yda-costa@uol.com.br</td><td>x7J&amp;2$a2(7</td><td>2018-08-06</td><td>RS</td><td>2023-03-09</td><td>34.94.78.134</td><td>Branco</td><td>Técnico Em Arquivo</td><td>+55 (081) 5917 4735</td></tr>\n",
       "<tr><td>076.541.328-08</td><td>ycorreia@yahoo.co...</td><td>N6S1Xk0YD)</td><td>2003-07-25</td><td>SP</td><td>2023-02-22</td><td>108.16.1.197</td><td>Magenta</td><td>Jogador De Handebol</td><td>+55 71 9877-2831</td></tr>\n",
       "<tr><td>126.958.304-24</td><td>ycavalcanti@bol.c...</td><td>xoKn)JSQ^7</td><td>2006-10-28</td><td>AM</td><td>2023-02-21</td><td>146.140.176.146</td><td>Azul</td><td>Patinador</td><td>0800-596-5498</td></tr>\n",
       "<tr><td>134.985.067-57</td><td>yago35@bol.com.br</td><td>Mcp&amp;6MYtbL</td><td>1993-12-03</td><td>PE</td><td>2023-02-14</td><td>10.67.124.77</td><td>Magenta</td><td>Engenheiro Mecatr...</td><td>81 5269-9143</td></tr>\n",
       "</table>\n",
       "only showing top 20 rows\n"
      ],
      "text/plain": [
       "+--------------+--------------------+----------+------------------+------+-------------+---------------+------------+--------------------+-------------------+\n",
       "|           cpf|               email|     senha|data_de_nascimento|estado|data_cadastro|           ipv4|cor_favorita|           profissao|           telefone|\n",
       "+--------------+--------------------+----------+------------------+------+-------------+---------------+------------+--------------------+-------------------+\n",
       "|837.021.546-71| zpinto@yahoo.com.br|(5R*_#XVDl|        1955-06-08|    RR|   2023-02-06|  52.26.104.153|        Rosa|        Argumentista|    (081) 8099 9690|\n",
       "|037.862.951-40|    zlopes@gmail.com|_LYcJLlu&8|        1966-10-15|    RR|   2023-03-14|   64.236.21.52|      Branco|             Ourives|   +55 61 4893 1165|\n",
       "|398.051.472-23|   zgomes@uol.com.br|0QZ0RHjHw%|        1945-02-04|    SE|   2023-02-07|126.249.226.142|     Magenta|             Cadista|    (021) 0775 2915|\n",
       "|482.063.597-29|   zgomes@uol.com.br|zIEEb2Oma^|        1990-04-25|    PI|   2023-03-05|  152.70.106.84|Verde Escuro|           Baterista|+55 (061) 9491 2341|\n",
       "|063.581.249-51|zfernandes@hotmai...|+I%Lr!wz0(|        1962-08-22|    MT|   2023-02-12|   53.238.78.76|        Azul|Fundidor De Placa...|       71 1659-6052|\n",
       "|341.697.025-06|ypeixoto@yahoo.co...|&3H*Q_soD4|        1973-12-18|    BA|   2023-03-15|   36.64.228.53| Verde Claro|            Ferreiro|      0500-012-9429|\n",
       "|365.841.029-98|ypeixoto@hotmail.com|c$8TxYirOu|        1995-06-11|    SE|   2023-03-13|  160.93.14.250|     Magenta|Engenheiro Cartog...|      0800-480-3407|\n",
       "|891.034.672-87|ynogueira@hotmail...|@3AJHqIWkV|        2021-07-30|    AL|   2023-01-05| 143.134.33.192| Azul Escuro|   Torneiro Mecânico|      0500-324-4347|\n",
       "|794.623.805-38|    ymoura@gmail.com|*bZGnLObY0|        1946-05-30|    AC|   2023-01-02|   22.66.90.218| Azul Escuro|Investigador Part...|    (051) 4288 6754|\n",
       "|561.438.072-80|   ymoraes@ig.com.br|c(6&FoouMR|        1998-02-23|    AC|   2023-02-15|   8.207.21.132|      Marrom|Odontologista Pre...|    (061) 5069 4948|\n",
       "|054.681.327-53|     ymelo@ig.com.br|_&(RxJ@b9i|        1941-11-13|    MA|   2023-01-21|177.136.210.154|       Cinza|        Argumentista|       11 9674-4969|\n",
       "|854.209.361-51|  ylima@yahoo.com.br|(w&9QnOv#B|        1954-07-28|    PI|   2023-03-01|   129.24.96.93|       Cinza|                  Dj|    (081) 0026 6407|\n",
       "|974.612.805-11|yferreira@uol.com.br|#2KsZ_zn_P|        1981-02-05|    SP|   2023-01-31|  110.94.27.112| Verde Claro|            Moldador|+55 (051) 2735 3651|\n",
       "|562.713.480-17|ydas-neves@bol.co...|p@0Ukod4xl|        1940-03-12|    SC|   2023-02-22| 150.110.65.174|     Amarelo|     Técnico Em Rede|    (071) 1865 1558|\n",
       "|947.615.238-91|  yda-paz@bol.com.br|wVmsBsEn@4|        1950-11-29|    SC|   2023-02-13|100.172.217.120|     Magenta|            Surfista|   +55 41 6990 8024|\n",
       "|395.184.760-39|  yda-luz@uol.com.br|6^8)1tranG|        1940-09-12|    AM|   2023-01-31|  40.183.73.149|      Marrom|          Tintureiro|    (021) 2493 8417|\n",
       "|096.741.853-48|yda-costa@uol.com.br|x7J&2$a2(7|        2018-08-06|    RS|   2023-03-09|   34.94.78.134|      Branco|  Técnico Em Arquivo|+55 (081) 5917 4735|\n",
       "|076.541.328-08|ycorreia@yahoo.co...|N6S1Xk0YD)|        2003-07-25|    SP|   2023-02-22|   108.16.1.197|     Magenta| Jogador De Handebol|   +55 71 9877-2831|\n",
       "|126.958.304-24|ycavalcanti@bol.c...|xoKn)JSQ^7|        2006-10-28|    AM|   2023-02-21|146.140.176.146|        Azul|           Patinador|      0800-596-5498|\n",
       "|134.985.067-57|   yago35@bol.com.br|Mcp&6MYtbL|        1993-12-03|    PE|   2023-02-14|   10.67.124.77|     Magenta|Engenheiro Mecatr...|       81 5269-9143|\n",
       "+--------------+--------------------+----------+------------------+------+-------------+---------------+------------+--------------------+-------------------+\n",
       "only showing top 20 rows"
      ]
     },
     "execution_count": 9,
     "metadata": {},
     "output_type": "execute_result"
    }
   ],
   "source": [
    "df.orderBy('email')\n",
    "df.orderBy(F.desc('email'), F.asc('ipv4')) # Ordenar de forma descendente z-a, maior menor"
   ]
  },
  {
   "cell_type": "markdown",
   "id": "9fc80700",
   "metadata": {},
   "source": [
    "# AGRUPANDO COLUNAS"
   ]
  },
  {
   "cell_type": "code",
   "execution_count": 20,
   "id": "41488a7f",
   "metadata": {},
   "outputs": [
    {
     "data": {
      "text/html": [
       "<table border='1'>\n",
       "<tr><th>cor_favorita</th><th>data_de_nascimento</th><th>count</th></tr>\n",
       "<tr><td>Preto</td><td>1918-04-09</td><td>1</td></tr>\n",
       "<tr><td>Marrom</td><td>1994-08-12</td><td>1</td></tr>\n",
       "<tr><td>Ciano</td><td>1965-06-25</td><td>1</td></tr>\n",
       "<tr><td>Marrom</td><td>1999-11-13</td><td>1</td></tr>\n",
       "<tr><td>Azul Escuro</td><td>2008-11-25</td><td>1</td></tr>\n",
       "<tr><td>Roxo</td><td>2021-11-06</td><td>1</td></tr>\n",
       "<tr><td>Rosa</td><td>1908-07-17</td><td>1</td></tr>\n",
       "<tr><td>Azul Escuro</td><td>2010-04-24</td><td>1</td></tr>\n",
       "<tr><td>Azul</td><td>1917-06-25</td><td>1</td></tr>\n",
       "<tr><td>Verde Claro</td><td>2022-07-23</td><td>1</td></tr>\n",
       "<tr><td>Roxo</td><td>1965-08-16</td><td>1</td></tr>\n",
       "<tr><td>Marrom</td><td>1953-12-13</td><td>1</td></tr>\n",
       "<tr><td>Verde</td><td>2002-05-20</td><td>1</td></tr>\n",
       "<tr><td>Verde</td><td>1962-01-11</td><td>1</td></tr>\n",
       "<tr><td>Branco</td><td>1975-01-22</td><td>1</td></tr>\n",
       "<tr><td>Laranja</td><td>1949-04-16</td><td>1</td></tr>\n",
       "<tr><td>Verde Claro</td><td>1995-01-30</td><td>1</td></tr>\n",
       "<tr><td>Cinza</td><td>1922-06-12</td><td>1</td></tr>\n",
       "<tr><td>Rosa</td><td>1932-10-01</td><td>1</td></tr>\n",
       "<tr><td>Azul Escuro</td><td>1937-03-30</td><td>1</td></tr>\n",
       "</table>\n",
       "only showing top 20 rows\n"
      ],
      "text/plain": [
       "+------------+------------------+-----+\n",
       "|cor_favorita|data_de_nascimento|count|\n",
       "+------------+------------------+-----+\n",
       "|       Preto|        1918-04-09|    1|\n",
       "|      Marrom|        1994-08-12|    1|\n",
       "|       Ciano|        1965-06-25|    1|\n",
       "|      Marrom|        1999-11-13|    1|\n",
       "| Azul Escuro|        2008-11-25|    1|\n",
       "|        Roxo|        2021-11-06|    1|\n",
       "|        Rosa|        1908-07-17|    1|\n",
       "| Azul Escuro|        2010-04-24|    1|\n",
       "|        Azul|        1917-06-25|    1|\n",
       "| Verde Claro|        2022-07-23|    1|\n",
       "|        Roxo|        1965-08-16|    1|\n",
       "|      Marrom|        1953-12-13|    1|\n",
       "|       Verde|        2002-05-20|    1|\n",
       "|       Verde|        1962-01-11|    1|\n",
       "|      Branco|        1975-01-22|    1|\n",
       "|     Laranja|        1949-04-16|    1|\n",
       "| Verde Claro|        1995-01-30|    1|\n",
       "|       Cinza|        1922-06-12|    1|\n",
       "|        Rosa|        1932-10-01|    1|\n",
       "| Azul Escuro|        1937-03-30|    1|\n",
       "+------------+------------------+-----+\n",
       "only showing top 20 rows"
      ]
     },
     "execution_count": 20,
     "metadata": {},
     "output_type": "execute_result"
    }
   ],
   "source": [
    "df.groupBy(F.col('cor_favorita'), F.col('data_de_nascimento')).count()"
   ]
  },
  {
   "cell_type": "code",
   "execution_count": null,
   "id": "ab193844",
   "metadata": {},
   "outputs": [],
   "source": []
  }
 ],
 "metadata": {
  "kernelspec": {
   "display_name": "Python 3",
   "language": "python",
   "name": "python3"
  },
  "language_info": {
   "codemirror_mode": {
    "name": "ipython",
    "version": 3
   },
   "file_extension": ".py",
   "mimetype": "text/x-python",
   "name": "python",
   "nbconvert_exporter": "python",
   "pygments_lexer": "ipython3",
   "version": "3.10.2"
  }
 },
 "nbformat": 4,
 "nbformat_minor": 5
}
